{
  "cells": [
    {
      "cell_type": "markdown",
      "metadata": {
        "id": "view-in-github",
        "colab_type": "text"
      },
      "source": [
        "<a href=\"https://colab.research.google.com/github/Solotea10/Product-Sales-Analysis/blob/main/Product_Sales_Analysis_project.ipynb\" target=\"_parent\"><img src=\"https://colab.research.google.com/assets/colab-badge.svg\" alt=\"Open In Colab\"/></a>"
      ]
    },
    {
      "cell_type": "markdown",
      "source": [
        "# **INTRODUCTION**"
      ],
      "metadata": {
        "id": "brVF_WbGnWSa"
      },
      "id": "brVF_WbGnWSa"
    },
    {
      "cell_type": "markdown",
      "id": "09844d79",
      "metadata": {
        "id": "09844d79"
      },
      "source": [
        "\n",
        "\n",
        "**Help the company in finding trends and insights**\n",
        "\n",
        "Corp ltd is a small scaled business venture. They have been selling 4 products over the last 10 years.\n",
        "The products are\n",
        " .P1\n",
        " .P2\n",
        " .P3\n",
        " .P4\n",
        "They have collected data from there retail centres and organised it into a small csv file which has been given to you.\n",
        "\n",
        "**The excel file contains about 8 numerical parameters**\n",
        "\n",
        " .Q1 - Total unit sales of product 1\n",
        " .Q2 - Total unit sales of product 2\n",
        " .Q3 - Total unit sales of product 3\n",
        " .Q4 - Total unit sales of product 4\n",
        "\n",
        " .S1 - Total revenue from product 1\n",
        " .S2 - Total revenue from product 2\n",
        " .S3 - Total revenue from product 3\n",
        " .S4 - Total revenue from product 4\n",
        "\n",
        "Can you help Corp ltd with you analytical and data science skills\n",
        "\n",
        "Some examples of data insights Corp ltd would like you to provide\n",
        ". Is there any trend in the sales of all four products during certain months\n",
        ". Out of all four products which product has seen the highest sales in all the given years\n",
        ".The company has all its retail centres closed on 31st December every year. Mr Harairahan the CEO would love to get the\n",
        " estimate of number of units of each product that would be sold on 31st December every year if there retail centres where\n",
        " kept open each year.\n",
        ".The CEO is considering the idea of dropping the production of any one of the products. He wants you to analyse the data and\n",
        " and suggest whether his idea would result in a massive setback for the company.\n",
        ". This would require Machine learning. Do further research into regression, clustering etc. The CEO would like to predict the\n",
        "  revenue and sales for the year 2024. He wants you to give a yearly estimate with the best possible accuracy.\n",
        "    \n"
      ]
    },
    {
      "cell_type": "markdown",
      "source": [
        "# **DATA INGESTION**"
      ],
      "metadata": {
        "id": "PwsrpZKKnmdw"
      },
      "id": "PwsrpZKKnmdw"
    },
    {
      "cell_type": "code",
      "execution_count": 3,
      "id": "b810d7df",
      "metadata": {
        "id": "b810d7df"
      },
      "outputs": [],
      "source": [
        "#IMPORT THE NECESSARY LIBRARIES\n",
        "import pandas as pd\n",
        "import numpy as np\n",
        "import seaborn as sns\n",
        "import matplotlib.pyplot as plt\n",
        "%matplotlib inline\n",
        "import warnings\n",
        "warnings.filterwarnings(\"ignore\")\n",
        "from datetime import datetime as dt\n",
        "from sklearn.linear_model import LinearRegression"
      ]
    },
    {
      "cell_type": "code",
      "source": [
        "from google.colab import files\n",
        "uploaded=files.upload()"
      ],
      "metadata": {
        "colab": {
          "base_uri": "https://localhost:8080/",
          "height": 73
        },
        "id": "v1pEXg4-sAOr",
        "outputId": "2e7145b5-875d-4f58-e841-c325444426c7"
      },
      "id": "v1pEXg4-sAOr",
      "execution_count": 1,
      "outputs": [
        {
          "output_type": "display_data",
          "data": {
            "text/plain": [
              "<IPython.core.display.HTML object>"
            ],
            "text/html": [
              "\n",
              "     <input type=\"file\" id=\"files-3e6c4eb2-92f8-4402-b431-bd0ea1b0cb74\" name=\"files[]\" multiple disabled\n",
              "        style=\"border:none\" />\n",
              "     <output id=\"result-3e6c4eb2-92f8-4402-b431-bd0ea1b0cb74\">\n",
              "      Upload widget is only available when the cell has been executed in the\n",
              "      current browser session. Please rerun this cell to enable.\n",
              "      </output>\n",
              "      <script>// Copyright 2017 Google LLC\n",
              "//\n",
              "// Licensed under the Apache License, Version 2.0 (the \"License\");\n",
              "// you may not use this file except in compliance with the License.\n",
              "// You may obtain a copy of the License at\n",
              "//\n",
              "//      http://www.apache.org/licenses/LICENSE-2.0\n",
              "//\n",
              "// Unless required by applicable law or agreed to in writing, software\n",
              "// distributed under the License is distributed on an \"AS IS\" BASIS,\n",
              "// WITHOUT WARRANTIES OR CONDITIONS OF ANY KIND, either express or implied.\n",
              "// See the License for the specific language governing permissions and\n",
              "// limitations under the License.\n",
              "\n",
              "/**\n",
              " * @fileoverview Helpers for google.colab Python module.\n",
              " */\n",
              "(function(scope) {\n",
              "function span(text, styleAttributes = {}) {\n",
              "  const element = document.createElement('span');\n",
              "  element.textContent = text;\n",
              "  for (const key of Object.keys(styleAttributes)) {\n",
              "    element.style[key] = styleAttributes[key];\n",
              "  }\n",
              "  return element;\n",
              "}\n",
              "\n",
              "// Max number of bytes which will be uploaded at a time.\n",
              "const MAX_PAYLOAD_SIZE = 100 * 1024;\n",
              "\n",
              "function _uploadFiles(inputId, outputId) {\n",
              "  const steps = uploadFilesStep(inputId, outputId);\n",
              "  const outputElement = document.getElementById(outputId);\n",
              "  // Cache steps on the outputElement to make it available for the next call\n",
              "  // to uploadFilesContinue from Python.\n",
              "  outputElement.steps = steps;\n",
              "\n",
              "  return _uploadFilesContinue(outputId);\n",
              "}\n",
              "\n",
              "// This is roughly an async generator (not supported in the browser yet),\n",
              "// where there are multiple asynchronous steps and the Python side is going\n",
              "// to poll for completion of each step.\n",
              "// This uses a Promise to block the python side on completion of each step,\n",
              "// then passes the result of the previous step as the input to the next step.\n",
              "function _uploadFilesContinue(outputId) {\n",
              "  const outputElement = document.getElementById(outputId);\n",
              "  const steps = outputElement.steps;\n",
              "\n",
              "  const next = steps.next(outputElement.lastPromiseValue);\n",
              "  return Promise.resolve(next.value.promise).then((value) => {\n",
              "    // Cache the last promise value to make it available to the next\n",
              "    // step of the generator.\n",
              "    outputElement.lastPromiseValue = value;\n",
              "    return next.value.response;\n",
              "  });\n",
              "}\n",
              "\n",
              "/**\n",
              " * Generator function which is called between each async step of the upload\n",
              " * process.\n",
              " * @param {string} inputId Element ID of the input file picker element.\n",
              " * @param {string} outputId Element ID of the output display.\n",
              " * @return {!Iterable<!Object>} Iterable of next steps.\n",
              " */\n",
              "function* uploadFilesStep(inputId, outputId) {\n",
              "  const inputElement = document.getElementById(inputId);\n",
              "  inputElement.disabled = false;\n",
              "\n",
              "  const outputElement = document.getElementById(outputId);\n",
              "  outputElement.innerHTML = '';\n",
              "\n",
              "  const pickedPromise = new Promise((resolve) => {\n",
              "    inputElement.addEventListener('change', (e) => {\n",
              "      resolve(e.target.files);\n",
              "    });\n",
              "  });\n",
              "\n",
              "  const cancel = document.createElement('button');\n",
              "  inputElement.parentElement.appendChild(cancel);\n",
              "  cancel.textContent = 'Cancel upload';\n",
              "  const cancelPromise = new Promise((resolve) => {\n",
              "    cancel.onclick = () => {\n",
              "      resolve(null);\n",
              "    };\n",
              "  });\n",
              "\n",
              "  // Wait for the user to pick the files.\n",
              "  const files = yield {\n",
              "    promise: Promise.race([pickedPromise, cancelPromise]),\n",
              "    response: {\n",
              "      action: 'starting',\n",
              "    }\n",
              "  };\n",
              "\n",
              "  cancel.remove();\n",
              "\n",
              "  // Disable the input element since further picks are not allowed.\n",
              "  inputElement.disabled = true;\n",
              "\n",
              "  if (!files) {\n",
              "    return {\n",
              "      response: {\n",
              "        action: 'complete',\n",
              "      }\n",
              "    };\n",
              "  }\n",
              "\n",
              "  for (const file of files) {\n",
              "    const li = document.createElement('li');\n",
              "    li.append(span(file.name, {fontWeight: 'bold'}));\n",
              "    li.append(span(\n",
              "        `(${file.type || 'n/a'}) - ${file.size} bytes, ` +\n",
              "        `last modified: ${\n",
              "            file.lastModifiedDate ? file.lastModifiedDate.toLocaleDateString() :\n",
              "                                    'n/a'} - `));\n",
              "    const percent = span('0% done');\n",
              "    li.appendChild(percent);\n",
              "\n",
              "    outputElement.appendChild(li);\n",
              "\n",
              "    const fileDataPromise = new Promise((resolve) => {\n",
              "      const reader = new FileReader();\n",
              "      reader.onload = (e) => {\n",
              "        resolve(e.target.result);\n",
              "      };\n",
              "      reader.readAsArrayBuffer(file);\n",
              "    });\n",
              "    // Wait for the data to be ready.\n",
              "    let fileData = yield {\n",
              "      promise: fileDataPromise,\n",
              "      response: {\n",
              "        action: 'continue',\n",
              "      }\n",
              "    };\n",
              "\n",
              "    // Use a chunked sending to avoid message size limits. See b/62115660.\n",
              "    let position = 0;\n",
              "    do {\n",
              "      const length = Math.min(fileData.byteLength - position, MAX_PAYLOAD_SIZE);\n",
              "      const chunk = new Uint8Array(fileData, position, length);\n",
              "      position += length;\n",
              "\n",
              "      const base64 = btoa(String.fromCharCode.apply(null, chunk));\n",
              "      yield {\n",
              "        response: {\n",
              "          action: 'append',\n",
              "          file: file.name,\n",
              "          data: base64,\n",
              "        },\n",
              "      };\n",
              "\n",
              "      let percentDone = fileData.byteLength === 0 ?\n",
              "          100 :\n",
              "          Math.round((position / fileData.byteLength) * 100);\n",
              "      percent.textContent = `${percentDone}% done`;\n",
              "\n",
              "    } while (position < fileData.byteLength);\n",
              "  }\n",
              "\n",
              "  // All done.\n",
              "  yield {\n",
              "    response: {\n",
              "      action: 'complete',\n",
              "    }\n",
              "  };\n",
              "}\n",
              "\n",
              "scope.google = scope.google || {};\n",
              "scope.google.colab = scope.google.colab || {};\n",
              "scope.google.colab._files = {\n",
              "  _uploadFiles,\n",
              "  _uploadFilesContinue,\n",
              "};\n",
              "})(self);\n",
              "</script> "
            ]
          },
          "metadata": {}
        },
        {
          "output_type": "stream",
          "name": "stdout",
          "text": [
            "Saving statsfinal.csv to statsfinal.csv\n"
          ]
        }
      ]
    },
    {
      "cell_type": "code",
      "execution_count": 5,
      "id": "38a4bbf6",
      "metadata": {
        "id": "38a4bbf6"
      },
      "outputs": [],
      "source": [
        "#LOADING THE DATASET\n",
        "data = pd.read_csv('statsfinal.csv')"
      ]
    },
    {
      "cell_type": "markdown",
      "source": [
        "## **EXPLORATORY DATA ANALYSIS**"
      ],
      "metadata": {
        "id": "wCi6BfgooBSq"
      },
      "id": "wCi6BfgooBSq"
    },
    {
      "cell_type": "code",
      "execution_count": 6,
      "id": "d4b50084",
      "metadata": {
        "colab": {
          "base_uri": "https://localhost:8080/",
          "height": 423
        },
        "id": "d4b50084",
        "outputId": "e58eb7a3-b0d6-4025-f7d7-1e8d9e7a4235"
      },
      "outputs": [
        {
          "output_type": "execute_result",
          "data": {
            "text/plain": [
              "      Unnamed: 0        Date  Q-P1  Q-P2  Q-P3  Q-P4      S-P1      S-P2  \\\n",
              "0              0  13-06-2010  5422  3725   576   907  17187.74  23616.50   \n",
              "1              1  14-06-2010  7047   779  3578  1574  22338.99   4938.86   \n",
              "2              2  15-06-2010  1572  2082   595  1145   4983.24  13199.88   \n",
              "3              3  16-06-2010  5657  2399  3140  1672  17932.69  15209.66   \n",
              "4              4  17-06-2010  3668  3207  2184   708  11627.56  20332.38   \n",
              "...          ...         ...   ...   ...   ...   ...       ...       ...   \n",
              "4594        4594  29-01-2023  1227  3044  5510  1896   3889.59  19298.96   \n",
              "4595        4595  30-01-2023  2476  3419   525  1359   7848.92  21676.46   \n",
              "4596        4596  31-01-2023  7446   841  4825  1311  23603.82   5331.94   \n",
              "4597        4597  01-02-2023  6289  3143  3588   474  19936.13  19926.62   \n",
              "4598        4598  02-02-2023  3122  1188  5899   517   9896.74   7531.92   \n",
              "\n",
              "          S-P3      S-P4  \n",
              "0      3121.92   6466.91  \n",
              "1     19392.76  11222.62  \n",
              "2      3224.90   8163.85  \n",
              "3     17018.80  11921.36  \n",
              "4     11837.28   5048.04  \n",
              "...        ...       ...  \n",
              "4594  29864.20  13518.48  \n",
              "4595   2845.50   9689.67  \n",
              "4596  26151.50   9347.43  \n",
              "4597  19446.96   3379.62  \n",
              "4598  31972.58   3686.21  \n",
              "\n",
              "[4599 rows x 10 columns]"
            ],
            "text/html": [
              "\n",
              "  <div id=\"df-1ef01f74-7f95-4f1f-88aa-3f7681a84f3c\">\n",
              "    <div class=\"colab-df-container\">\n",
              "      <div>\n",
              "<style scoped>\n",
              "    .dataframe tbody tr th:only-of-type {\n",
              "        vertical-align: middle;\n",
              "    }\n",
              "\n",
              "    .dataframe tbody tr th {\n",
              "        vertical-align: top;\n",
              "    }\n",
              "\n",
              "    .dataframe thead th {\n",
              "        text-align: right;\n",
              "    }\n",
              "</style>\n",
              "<table border=\"1\" class=\"dataframe\">\n",
              "  <thead>\n",
              "    <tr style=\"text-align: right;\">\n",
              "      <th></th>\n",
              "      <th>Unnamed: 0</th>\n",
              "      <th>Date</th>\n",
              "      <th>Q-P1</th>\n",
              "      <th>Q-P2</th>\n",
              "      <th>Q-P3</th>\n",
              "      <th>Q-P4</th>\n",
              "      <th>S-P1</th>\n",
              "      <th>S-P2</th>\n",
              "      <th>S-P3</th>\n",
              "      <th>S-P4</th>\n",
              "    </tr>\n",
              "  </thead>\n",
              "  <tbody>\n",
              "    <tr>\n",
              "      <th>0</th>\n",
              "      <td>0</td>\n",
              "      <td>13-06-2010</td>\n",
              "      <td>5422</td>\n",
              "      <td>3725</td>\n",
              "      <td>576</td>\n",
              "      <td>907</td>\n",
              "      <td>17187.74</td>\n",
              "      <td>23616.50</td>\n",
              "      <td>3121.92</td>\n",
              "      <td>6466.91</td>\n",
              "    </tr>\n",
              "    <tr>\n",
              "      <th>1</th>\n",
              "      <td>1</td>\n",
              "      <td>14-06-2010</td>\n",
              "      <td>7047</td>\n",
              "      <td>779</td>\n",
              "      <td>3578</td>\n",
              "      <td>1574</td>\n",
              "      <td>22338.99</td>\n",
              "      <td>4938.86</td>\n",
              "      <td>19392.76</td>\n",
              "      <td>11222.62</td>\n",
              "    </tr>\n",
              "    <tr>\n",
              "      <th>2</th>\n",
              "      <td>2</td>\n",
              "      <td>15-06-2010</td>\n",
              "      <td>1572</td>\n",
              "      <td>2082</td>\n",
              "      <td>595</td>\n",
              "      <td>1145</td>\n",
              "      <td>4983.24</td>\n",
              "      <td>13199.88</td>\n",
              "      <td>3224.90</td>\n",
              "      <td>8163.85</td>\n",
              "    </tr>\n",
              "    <tr>\n",
              "      <th>3</th>\n",
              "      <td>3</td>\n",
              "      <td>16-06-2010</td>\n",
              "      <td>5657</td>\n",
              "      <td>2399</td>\n",
              "      <td>3140</td>\n",
              "      <td>1672</td>\n",
              "      <td>17932.69</td>\n",
              "      <td>15209.66</td>\n",
              "      <td>17018.80</td>\n",
              "      <td>11921.36</td>\n",
              "    </tr>\n",
              "    <tr>\n",
              "      <th>4</th>\n",
              "      <td>4</td>\n",
              "      <td>17-06-2010</td>\n",
              "      <td>3668</td>\n",
              "      <td>3207</td>\n",
              "      <td>2184</td>\n",
              "      <td>708</td>\n",
              "      <td>11627.56</td>\n",
              "      <td>20332.38</td>\n",
              "      <td>11837.28</td>\n",
              "      <td>5048.04</td>\n",
              "    </tr>\n",
              "    <tr>\n",
              "      <th>...</th>\n",
              "      <td>...</td>\n",
              "      <td>...</td>\n",
              "      <td>...</td>\n",
              "      <td>...</td>\n",
              "      <td>...</td>\n",
              "      <td>...</td>\n",
              "      <td>...</td>\n",
              "      <td>...</td>\n",
              "      <td>...</td>\n",
              "      <td>...</td>\n",
              "    </tr>\n",
              "    <tr>\n",
              "      <th>4594</th>\n",
              "      <td>4594</td>\n",
              "      <td>29-01-2023</td>\n",
              "      <td>1227</td>\n",
              "      <td>3044</td>\n",
              "      <td>5510</td>\n",
              "      <td>1896</td>\n",
              "      <td>3889.59</td>\n",
              "      <td>19298.96</td>\n",
              "      <td>29864.20</td>\n",
              "      <td>13518.48</td>\n",
              "    </tr>\n",
              "    <tr>\n",
              "      <th>4595</th>\n",
              "      <td>4595</td>\n",
              "      <td>30-01-2023</td>\n",
              "      <td>2476</td>\n",
              "      <td>3419</td>\n",
              "      <td>525</td>\n",
              "      <td>1359</td>\n",
              "      <td>7848.92</td>\n",
              "      <td>21676.46</td>\n",
              "      <td>2845.50</td>\n",
              "      <td>9689.67</td>\n",
              "    </tr>\n",
              "    <tr>\n",
              "      <th>4596</th>\n",
              "      <td>4596</td>\n",
              "      <td>31-01-2023</td>\n",
              "      <td>7446</td>\n",
              "      <td>841</td>\n",
              "      <td>4825</td>\n",
              "      <td>1311</td>\n",
              "      <td>23603.82</td>\n",
              "      <td>5331.94</td>\n",
              "      <td>26151.50</td>\n",
              "      <td>9347.43</td>\n",
              "    </tr>\n",
              "    <tr>\n",
              "      <th>4597</th>\n",
              "      <td>4597</td>\n",
              "      <td>01-02-2023</td>\n",
              "      <td>6289</td>\n",
              "      <td>3143</td>\n",
              "      <td>3588</td>\n",
              "      <td>474</td>\n",
              "      <td>19936.13</td>\n",
              "      <td>19926.62</td>\n",
              "      <td>19446.96</td>\n",
              "      <td>3379.62</td>\n",
              "    </tr>\n",
              "    <tr>\n",
              "      <th>4598</th>\n",
              "      <td>4598</td>\n",
              "      <td>02-02-2023</td>\n",
              "      <td>3122</td>\n",
              "      <td>1188</td>\n",
              "      <td>5899</td>\n",
              "      <td>517</td>\n",
              "      <td>9896.74</td>\n",
              "      <td>7531.92</td>\n",
              "      <td>31972.58</td>\n",
              "      <td>3686.21</td>\n",
              "    </tr>\n",
              "  </tbody>\n",
              "</table>\n",
              "<p>4599 rows × 10 columns</p>\n",
              "</div>\n",
              "      <button class=\"colab-df-convert\" onclick=\"convertToInteractive('df-1ef01f74-7f95-4f1f-88aa-3f7681a84f3c')\"\n",
              "              title=\"Convert this dataframe to an interactive table.\"\n",
              "              style=\"display:none;\">\n",
              "        \n",
              "  <svg xmlns=\"http://www.w3.org/2000/svg\" height=\"24px\"viewBox=\"0 0 24 24\"\n",
              "       width=\"24px\">\n",
              "    <path d=\"M0 0h24v24H0V0z\" fill=\"none\"/>\n",
              "    <path d=\"M18.56 5.44l.94 2.06.94-2.06 2.06-.94-2.06-.94-.94-2.06-.94 2.06-2.06.94zm-11 1L8.5 8.5l.94-2.06 2.06-.94-2.06-.94L8.5 2.5l-.94 2.06-2.06.94zm10 10l.94 2.06.94-2.06 2.06-.94-2.06-.94-.94-2.06-.94 2.06-2.06.94z\"/><path d=\"M17.41 7.96l-1.37-1.37c-.4-.4-.92-.59-1.43-.59-.52 0-1.04.2-1.43.59L10.3 9.45l-7.72 7.72c-.78.78-.78 2.05 0 2.83L4 21.41c.39.39.9.59 1.41.59.51 0 1.02-.2 1.41-.59l7.78-7.78 2.81-2.81c.8-.78.8-2.07 0-2.86zM5.41 20L4 18.59l7.72-7.72 1.47 1.35L5.41 20z\"/>\n",
              "  </svg>\n",
              "      </button>\n",
              "      \n",
              "  <style>\n",
              "    .colab-df-container {\n",
              "      display:flex;\n",
              "      flex-wrap:wrap;\n",
              "      gap: 12px;\n",
              "    }\n",
              "\n",
              "    .colab-df-convert {\n",
              "      background-color: #E8F0FE;\n",
              "      border: none;\n",
              "      border-radius: 50%;\n",
              "      cursor: pointer;\n",
              "      display: none;\n",
              "      fill: #1967D2;\n",
              "      height: 32px;\n",
              "      padding: 0 0 0 0;\n",
              "      width: 32px;\n",
              "    }\n",
              "\n",
              "    .colab-df-convert:hover {\n",
              "      background-color: #E2EBFA;\n",
              "      box-shadow: 0px 1px 2px rgba(60, 64, 67, 0.3), 0px 1px 3px 1px rgba(60, 64, 67, 0.15);\n",
              "      fill: #174EA6;\n",
              "    }\n",
              "\n",
              "    [theme=dark] .colab-df-convert {\n",
              "      background-color: #3B4455;\n",
              "      fill: #D2E3FC;\n",
              "    }\n",
              "\n",
              "    [theme=dark] .colab-df-convert:hover {\n",
              "      background-color: #434B5C;\n",
              "      box-shadow: 0px 1px 3px 1px rgba(0, 0, 0, 0.15);\n",
              "      filter: drop-shadow(0px 1px 2px rgba(0, 0, 0, 0.3));\n",
              "      fill: #FFFFFF;\n",
              "    }\n",
              "  </style>\n",
              "\n",
              "      <script>\n",
              "        const buttonEl =\n",
              "          document.querySelector('#df-1ef01f74-7f95-4f1f-88aa-3f7681a84f3c button.colab-df-convert');\n",
              "        buttonEl.style.display =\n",
              "          google.colab.kernel.accessAllowed ? 'block' : 'none';\n",
              "\n",
              "        async function convertToInteractive(key) {\n",
              "          const element = document.querySelector('#df-1ef01f74-7f95-4f1f-88aa-3f7681a84f3c');\n",
              "          const dataTable =\n",
              "            await google.colab.kernel.invokeFunction('convertToInteractive',\n",
              "                                                     [key], {});\n",
              "          if (!dataTable) return;\n",
              "\n",
              "          const docLinkHtml = 'Like what you see? Visit the ' +\n",
              "            '<a target=\"_blank\" href=https://colab.research.google.com/notebooks/data_table.ipynb>data table notebook</a>'\n",
              "            + ' to learn more about interactive tables.';\n",
              "          element.innerHTML = '';\n",
              "          dataTable['output_type'] = 'display_data';\n",
              "          await google.colab.output.renderOutput(dataTable, element);\n",
              "          const docLink = document.createElement('div');\n",
              "          docLink.innerHTML = docLinkHtml;\n",
              "          element.appendChild(docLink);\n",
              "        }\n",
              "      </script>\n",
              "    </div>\n",
              "  </div>\n",
              "  "
            ]
          },
          "metadata": {},
          "execution_count": 6
        }
      ],
      "source": [
        "# CHECKING THE FIRST 5 AND LAST 5 LINES OF THE DATASET\n",
        "data.head(-1)"
      ]
    },
    {
      "cell_type": "code",
      "execution_count": 7,
      "id": "3315e927",
      "metadata": {
        "colab": {
          "base_uri": "https://localhost:8080/"
        },
        "id": "3315e927",
        "outputId": "b65bfe9b-2ae6-4460-b5bc-54e81da7c6fc"
      },
      "outputs": [
        {
          "output_type": "execute_result",
          "data": {
            "text/plain": [
              "Index(['Unnamed: 0', 'Date', 'Q-P1', 'Q-P2', 'Q-P3', 'Q-P4', 'S-P1', 'S-P2',\n",
              "       'S-P3', 'S-P4'],\n",
              "      dtype='object')"
            ]
          },
          "metadata": {},
          "execution_count": 7
        }
      ],
      "source": [
        "data.columns"
      ]
    },
    {
      "cell_type": "markdown",
      "id": "8d8c7aad",
      "metadata": {
        "id": "8d8c7aad"
      },
      "source": [
        "\n",
        ".The dataset has 4599 rows and 10 columns\n",
        ".The start date for the dataset is 13th June 2010 and the end date is 2nd February 2023.\n",
        " Therefore the years 2010 and 2023 are incomplete hence cant be relied on for analysis.\n",
        " Those two years should be dropped.\n",
        ".There is a column named Unnamed: 0. This we can drop because its a repeat of our ID.\n",
        ".The data contains a column named Date with other columns being\n",
        "  - There total unit of sales for P1,P2,P3,P4 with columns named Q-P1,Q-P2,Q-P3 and Q-P4 respectively.\n",
        "  - There total revenue from sales for P1,P2,P3,P4 being under columns named S-P1,S-P2,S-P3 and S-P4 respectively.\n"
      ]
    },
    {
      "cell_type": "code",
      "execution_count": 8,
      "id": "4abcbb22",
      "metadata": {
        "colab": {
          "base_uri": "https://localhost:8080/"
        },
        "id": "4abcbb22",
        "outputId": "d4bff3c4-ae85-49a4-f73d-95c644561f9f"
      },
      "outputs": [
        {
          "output_type": "stream",
          "name": "stdout",
          "text": [
            "<class 'pandas.core.frame.DataFrame'>\n",
            "RangeIndex: 4600 entries, 0 to 4599\n",
            "Data columns (total 10 columns):\n",
            " #   Column      Non-Null Count  Dtype  \n",
            "---  ------      --------------  -----  \n",
            " 0   Unnamed: 0  4600 non-null   int64  \n",
            " 1   Date        4600 non-null   object \n",
            " 2   Q-P1        4600 non-null   int64  \n",
            " 3   Q-P2        4600 non-null   int64  \n",
            " 4   Q-P3        4600 non-null   int64  \n",
            " 5   Q-P4        4600 non-null   int64  \n",
            " 6   S-P1        4600 non-null   float64\n",
            " 7   S-P2        4600 non-null   float64\n",
            " 8   S-P3        4600 non-null   float64\n",
            " 9   S-P4        4600 non-null   float64\n",
            "dtypes: float64(4), int64(5), object(1)\n",
            "memory usage: 359.5+ KB\n"
          ]
        }
      ],
      "source": [
        "data.info()"
      ]
    },
    {
      "cell_type": "markdown",
      "id": "2503c39d",
      "metadata": {
        "id": "2503c39d"
      },
      "source": [
        "\n",
        "  Date is the only non numerical data type in the entire dataset"
      ]
    },
    {
      "cell_type": "code",
      "execution_count": 9,
      "id": "eddd5d72",
      "metadata": {
        "id": "eddd5d72"
      },
      "outputs": [],
      "source": [
        "# DROPPING THE UNNAMED COLUMN\n",
        "data = data.drop(columns=['Unnamed: 0'])"
      ]
    },
    {
      "cell_type": "code",
      "execution_count": 10,
      "id": "cbf0fe65",
      "metadata": {
        "colab": {
          "base_uri": "https://localhost:8080/"
        },
        "id": "cbf0fe65",
        "outputId": "cd7bcb77-ac67-43b6-da12-62816fddb251"
      },
      "outputs": [
        {
          "output_type": "execute_result",
          "data": {
            "text/plain": [
              "Date    0\n",
              "Q-P1    0\n",
              "Q-P2    0\n",
              "Q-P3    0\n",
              "Q-P4    0\n",
              "S-P1    0\n",
              "S-P2    0\n",
              "S-P3    0\n",
              "S-P4    0\n",
              "dtype: int64"
            ]
          },
          "metadata": {},
          "execution_count": 10
        }
      ],
      "source": [
        "data.isnull().sum()"
      ]
    },
    {
      "cell_type": "markdown",
      "id": "5b712016",
      "metadata": {
        "id": "5b712016"
      },
      "source": [
        "\n",
        " There are no missing values in the data. This isnt common.\n",
        " We will look into feature engineering and missing value handling to resolve this issue\n",
        " While dealing with fresh data we will do alot of cleaning which may result into missing data."
      ]
    },
    {
      "cell_type": "code",
      "execution_count": 11,
      "id": "0c33b6aa",
      "metadata": {
        "colab": {
          "base_uri": "https://localhost:8080/",
          "height": 364
        },
        "id": "0c33b6aa",
        "outputId": "85d8395b-69d3-4040-eccc-6be342f788c1"
      },
      "outputs": [
        {
          "output_type": "execute_result",
          "data": {
            "text/plain": [
              "              Q-P1         Q-P2         Q-P3         Q-P4          S-P1  \\\n",
              "count  4600.000000  4600.000000  4600.000000  4600.000000   4600.000000   \n",
              "mean   4121.849130  2130.281522  3145.740000  1123.500000  13066.261743   \n",
              "std    2244.271323  1089.783705  1671.832231   497.385676   7114.340094   \n",
              "min     254.000000   251.000000   250.000000   250.000000    805.180000   \n",
              "25%    2150.500000  1167.750000  1695.750000   696.000000   6817.085000   \n",
              "50%    4137.000000  2134.000000  3202.500000  1136.500000  13114.290000   \n",
              "75%    6072.000000  3070.250000  4569.000000  1544.000000  19248.240000   \n",
              "max    7998.000000  3998.000000  6000.000000  2000.000000  25353.660000   \n",
              "\n",
              "               S-P2          S-P3          S-P4  \n",
              "count   4600.000000   4600.000000   4600.000000  \n",
              "mean   13505.984848  17049.910800   8010.555000  \n",
              "std     6909.228687   9061.330694   3546.359869  \n",
              "min     1591.340000   1355.000000   1782.500000  \n",
              "25%     7403.535000   9190.965000   4962.480000  \n",
              "50%    13529.560000  17357.550000   8103.245000  \n",
              "75%    19465.385000  24763.980000  11008.720000  \n",
              "max    25347.320000  32520.000000  14260.000000  "
            ],
            "text/html": [
              "\n",
              "  <div id=\"df-2034f085-d2d2-4903-a31c-d22374fd6445\">\n",
              "    <div class=\"colab-df-container\">\n",
              "      <div>\n",
              "<style scoped>\n",
              "    .dataframe tbody tr th:only-of-type {\n",
              "        vertical-align: middle;\n",
              "    }\n",
              "\n",
              "    .dataframe tbody tr th {\n",
              "        vertical-align: top;\n",
              "    }\n",
              "\n",
              "    .dataframe thead th {\n",
              "        text-align: right;\n",
              "    }\n",
              "</style>\n",
              "<table border=\"1\" class=\"dataframe\">\n",
              "  <thead>\n",
              "    <tr style=\"text-align: right;\">\n",
              "      <th></th>\n",
              "      <th>Q-P1</th>\n",
              "      <th>Q-P2</th>\n",
              "      <th>Q-P3</th>\n",
              "      <th>Q-P4</th>\n",
              "      <th>S-P1</th>\n",
              "      <th>S-P2</th>\n",
              "      <th>S-P3</th>\n",
              "      <th>S-P4</th>\n",
              "    </tr>\n",
              "  </thead>\n",
              "  <tbody>\n",
              "    <tr>\n",
              "      <th>count</th>\n",
              "      <td>4600.000000</td>\n",
              "      <td>4600.000000</td>\n",
              "      <td>4600.000000</td>\n",
              "      <td>4600.000000</td>\n",
              "      <td>4600.000000</td>\n",
              "      <td>4600.000000</td>\n",
              "      <td>4600.000000</td>\n",
              "      <td>4600.000000</td>\n",
              "    </tr>\n",
              "    <tr>\n",
              "      <th>mean</th>\n",
              "      <td>4121.849130</td>\n",
              "      <td>2130.281522</td>\n",
              "      <td>3145.740000</td>\n",
              "      <td>1123.500000</td>\n",
              "      <td>13066.261743</td>\n",
              "      <td>13505.984848</td>\n",
              "      <td>17049.910800</td>\n",
              "      <td>8010.555000</td>\n",
              "    </tr>\n",
              "    <tr>\n",
              "      <th>std</th>\n",
              "      <td>2244.271323</td>\n",
              "      <td>1089.783705</td>\n",
              "      <td>1671.832231</td>\n",
              "      <td>497.385676</td>\n",
              "      <td>7114.340094</td>\n",
              "      <td>6909.228687</td>\n",
              "      <td>9061.330694</td>\n",
              "      <td>3546.359869</td>\n",
              "    </tr>\n",
              "    <tr>\n",
              "      <th>min</th>\n",
              "      <td>254.000000</td>\n",
              "      <td>251.000000</td>\n",
              "      <td>250.000000</td>\n",
              "      <td>250.000000</td>\n",
              "      <td>805.180000</td>\n",
              "      <td>1591.340000</td>\n",
              "      <td>1355.000000</td>\n",
              "      <td>1782.500000</td>\n",
              "    </tr>\n",
              "    <tr>\n",
              "      <th>25%</th>\n",
              "      <td>2150.500000</td>\n",
              "      <td>1167.750000</td>\n",
              "      <td>1695.750000</td>\n",
              "      <td>696.000000</td>\n",
              "      <td>6817.085000</td>\n",
              "      <td>7403.535000</td>\n",
              "      <td>9190.965000</td>\n",
              "      <td>4962.480000</td>\n",
              "    </tr>\n",
              "    <tr>\n",
              "      <th>50%</th>\n",
              "      <td>4137.000000</td>\n",
              "      <td>2134.000000</td>\n",
              "      <td>3202.500000</td>\n",
              "      <td>1136.500000</td>\n",
              "      <td>13114.290000</td>\n",
              "      <td>13529.560000</td>\n",
              "      <td>17357.550000</td>\n",
              "      <td>8103.245000</td>\n",
              "    </tr>\n",
              "    <tr>\n",
              "      <th>75%</th>\n",
              "      <td>6072.000000</td>\n",
              "      <td>3070.250000</td>\n",
              "      <td>4569.000000</td>\n",
              "      <td>1544.000000</td>\n",
              "      <td>19248.240000</td>\n",
              "      <td>19465.385000</td>\n",
              "      <td>24763.980000</td>\n",
              "      <td>11008.720000</td>\n",
              "    </tr>\n",
              "    <tr>\n",
              "      <th>max</th>\n",
              "      <td>7998.000000</td>\n",
              "      <td>3998.000000</td>\n",
              "      <td>6000.000000</td>\n",
              "      <td>2000.000000</td>\n",
              "      <td>25353.660000</td>\n",
              "      <td>25347.320000</td>\n",
              "      <td>32520.000000</td>\n",
              "      <td>14260.000000</td>\n",
              "    </tr>\n",
              "  </tbody>\n",
              "</table>\n",
              "</div>\n",
              "      <button class=\"colab-df-convert\" onclick=\"convertToInteractive('df-2034f085-d2d2-4903-a31c-d22374fd6445')\"\n",
              "              title=\"Convert this dataframe to an interactive table.\"\n",
              "              style=\"display:none;\">\n",
              "        \n",
              "  <svg xmlns=\"http://www.w3.org/2000/svg\" height=\"24px\"viewBox=\"0 0 24 24\"\n",
              "       width=\"24px\">\n",
              "    <path d=\"M0 0h24v24H0V0z\" fill=\"none\"/>\n",
              "    <path d=\"M18.56 5.44l.94 2.06.94-2.06 2.06-.94-2.06-.94-.94-2.06-.94 2.06-2.06.94zm-11 1L8.5 8.5l.94-2.06 2.06-.94-2.06-.94L8.5 2.5l-.94 2.06-2.06.94zm10 10l.94 2.06.94-2.06 2.06-.94-2.06-.94-.94-2.06-.94 2.06-2.06.94z\"/><path d=\"M17.41 7.96l-1.37-1.37c-.4-.4-.92-.59-1.43-.59-.52 0-1.04.2-1.43.59L10.3 9.45l-7.72 7.72c-.78.78-.78 2.05 0 2.83L4 21.41c.39.39.9.59 1.41.59.51 0 1.02-.2 1.41-.59l7.78-7.78 2.81-2.81c.8-.78.8-2.07 0-2.86zM5.41 20L4 18.59l7.72-7.72 1.47 1.35L5.41 20z\"/>\n",
              "  </svg>\n",
              "      </button>\n",
              "      \n",
              "  <style>\n",
              "    .colab-df-container {\n",
              "      display:flex;\n",
              "      flex-wrap:wrap;\n",
              "      gap: 12px;\n",
              "    }\n",
              "\n",
              "    .colab-df-convert {\n",
              "      background-color: #E8F0FE;\n",
              "      border: none;\n",
              "      border-radius: 50%;\n",
              "      cursor: pointer;\n",
              "      display: none;\n",
              "      fill: #1967D2;\n",
              "      height: 32px;\n",
              "      padding: 0 0 0 0;\n",
              "      width: 32px;\n",
              "    }\n",
              "\n",
              "    .colab-df-convert:hover {\n",
              "      background-color: #E2EBFA;\n",
              "      box-shadow: 0px 1px 2px rgba(60, 64, 67, 0.3), 0px 1px 3px 1px rgba(60, 64, 67, 0.15);\n",
              "      fill: #174EA6;\n",
              "    }\n",
              "\n",
              "    [theme=dark] .colab-df-convert {\n",
              "      background-color: #3B4455;\n",
              "      fill: #D2E3FC;\n",
              "    }\n",
              "\n",
              "    [theme=dark] .colab-df-convert:hover {\n",
              "      background-color: #434B5C;\n",
              "      box-shadow: 0px 1px 3px 1px rgba(0, 0, 0, 0.15);\n",
              "      filter: drop-shadow(0px 1px 2px rgba(0, 0, 0, 0.3));\n",
              "      fill: #FFFFFF;\n",
              "    }\n",
              "  </style>\n",
              "\n",
              "      <script>\n",
              "        const buttonEl =\n",
              "          document.querySelector('#df-2034f085-d2d2-4903-a31c-d22374fd6445 button.colab-df-convert');\n",
              "        buttonEl.style.display =\n",
              "          google.colab.kernel.accessAllowed ? 'block' : 'none';\n",
              "\n",
              "        async function convertToInteractive(key) {\n",
              "          const element = document.querySelector('#df-2034f085-d2d2-4903-a31c-d22374fd6445');\n",
              "          const dataTable =\n",
              "            await google.colab.kernel.invokeFunction('convertToInteractive',\n",
              "                                                     [key], {});\n",
              "          if (!dataTable) return;\n",
              "\n",
              "          const docLinkHtml = 'Like what you see? Visit the ' +\n",
              "            '<a target=\"_blank\" href=https://colab.research.google.com/notebooks/data_table.ipynb>data table notebook</a>'\n",
              "            + ' to learn more about interactive tables.';\n",
              "          element.innerHTML = '';\n",
              "          dataTable['output_type'] = 'display_data';\n",
              "          await google.colab.output.renderOutput(dataTable, element);\n",
              "          const docLink = document.createElement('div');\n",
              "          docLink.innerHTML = docLinkHtml;\n",
              "          element.appendChild(docLink);\n",
              "        }\n",
              "      </script>\n",
              "    </div>\n",
              "  </div>\n",
              "  "
            ]
          },
          "metadata": {},
          "execution_count": 11
        }
      ],
      "source": [
        "# STATISTICAL ANALYSIS OF THE DATA\n",
        "data.describe()"
      ]
    },
    {
      "cell_type": "markdown",
      "id": "cdb61d49",
      "metadata": {
        "id": "cdb61d49"
      },
      "source": [
        " Separating the datetime\n",
        " First we separate the days, months and years.\n",
        " We extract the year from the year, day and month using the lambda function\n",
        " This will also help us  analyse sales year to year"
      ]
    },
    {
      "cell_type": "code",
      "execution_count": 12,
      "id": "8ae49edb",
      "metadata": {
        "id": "8ae49edb"
      },
      "outputs": [],
      "source": [
        "data['Day'] = data['Date'].apply(lambda x:x.split('-')[0])\n",
        "data['Month'] = data['Date'].apply(lambda x:x.split('-')[1])\n",
        "data['Year'] = data['Date'].apply(lambda x:x.split('-')[2])\n"
      ]
    },
    {
      "cell_type": "code",
      "execution_count": 13,
      "id": "c34883b1",
      "metadata": {
        "colab": {
          "base_uri": "https://localhost:8080/"
        },
        "id": "c34883b1",
        "outputId": "b76f1922-690a-40aa-e48d-97335b8b285e"
      },
      "outputs": [
        {
          "output_type": "stream",
          "name": "stdout",
          "text": [
            "            Date  Q-P1  Q-P2  Q-P3  Q-P4      S-P1      S-P2      S-P3  \\\n",
            "201   01-01-2011   281  3956  4186  1537    890.77  25081.04  22688.12   \n",
            "202   02-01-2011  7665  1350  4266  1789  24298.05   8559.00  23121.72   \n",
            "203   03-01-2011   937  3758  4311   314   2970.29  23825.72  23365.62   \n",
            "204   04-01-2011  6378   968  4530   995  20218.26   6137.12  24552.60   \n",
            "205   05-01-2011   731  2174  5908  1505   2317.27  13783.16  32021.36   \n",
            "...          ...   ...   ...   ...   ...       ...       ...       ...   \n",
            "4561  26-12-2022  7600   662  4510   988  24092.00   4197.08  24444.20   \n",
            "4562  27-12-2022  7114  2948   681   700  22551.38  18690.32   3691.02   \n",
            "4563  28-12-2022  7759   356  1834  1142  24596.03   2257.04   9940.28   \n",
            "4564  29-12-2022  6457  1851  3369   669  20468.69  11735.34  18259.98   \n",
            "4565  30-12-2022  7284  1417   788  1369  23090.28   8983.78   4270.96   \n",
            "\n",
            "          S-P4 Day Month  Year  \n",
            "201   10958.81  01    01  2011  \n",
            "202   12755.57  02    01  2011  \n",
            "203    2238.82  03    01  2011  \n",
            "204    7094.35  04    01  2011  \n",
            "205   10730.65  05    01  2011  \n",
            "...        ...  ..   ...   ...  \n",
            "4561   7044.44  26    12  2022  \n",
            "4562   4991.00  27    12  2022  \n",
            "4563   8142.46  28    12  2022  \n",
            "4564   4769.97  29    12  2022  \n",
            "4565   9760.97  30    12  2022  \n",
            "\n",
            "[4365 rows x 12 columns]\n"
          ]
        }
      ],
      "source": [
        "# LETS DROP THE ROWS FOR THE YEARS 2010 AND 2023\n",
        "data_reduced = data.query(\"Year ! = '2010' and Year ! = '2023'\")\n",
        "print(data_reduced)"
      ]
    },
    {
      "cell_type": "markdown",
      "source": [
        "# DATA VISUALISATION"
      ],
      "metadata": {
        "id": "qSLSL-Nzqf02"
      },
      "id": "qSLSL-Nzqf02"
    },
    {
      "cell_type": "code",
      "execution_count": 14,
      "id": "40593943",
      "metadata": {
        "colab": {
          "base_uri": "https://localhost:8080/",
          "height": 300
        },
        "id": "40593943",
        "outputId": "9a0c712a-7ca7-441b-9211-263c1eb1687f"
      },
      "outputs": [
        {
          "output_type": "execute_result",
          "data": {
            "text/plain": [
              "          Q-P1      Q-P2      Q-P3      Q-P4      S-P1      S-P2      S-P3  \\\n",
              "Q-P1  1.000000 -0.001194 -0.005619 -0.054932  1.000000 -0.001194 -0.005619   \n",
              "Q-P2 -0.001194  1.000000  0.003120  0.014021 -0.001194  1.000000  0.003120   \n",
              "Q-P3 -0.005619  0.003120  1.000000 -0.005917 -0.005619  0.003120  1.000000   \n",
              "Q-P4 -0.054932  0.014021 -0.005917  1.000000 -0.054932  0.014021 -0.005917   \n",
              "S-P1  1.000000 -0.001194 -0.005619 -0.054932  1.000000 -0.001194 -0.005619   \n",
              "S-P2 -0.001194  1.000000  0.003120  0.014021 -0.001194  1.000000  0.003120   \n",
              "S-P3 -0.005619  0.003120  1.000000 -0.005917 -0.005619  0.003120  1.000000   \n",
              "S-P4 -0.054932  0.014021 -0.005917  1.000000 -0.054932  0.014021 -0.005917   \n",
              "\n",
              "          S-P4  \n",
              "Q-P1 -0.054932  \n",
              "Q-P2  0.014021  \n",
              "Q-P3 -0.005917  \n",
              "Q-P4  1.000000  \n",
              "S-P1 -0.054932  \n",
              "S-P2  0.014021  \n",
              "S-P3 -0.005917  \n",
              "S-P4  1.000000  "
            ],
            "text/html": [
              "\n",
              "  <div id=\"df-33c7994b-358e-4115-8ad5-b97f76b691ce\">\n",
              "    <div class=\"colab-df-container\">\n",
              "      <div>\n",
              "<style scoped>\n",
              "    .dataframe tbody tr th:only-of-type {\n",
              "        vertical-align: middle;\n",
              "    }\n",
              "\n",
              "    .dataframe tbody tr th {\n",
              "        vertical-align: top;\n",
              "    }\n",
              "\n",
              "    .dataframe thead th {\n",
              "        text-align: right;\n",
              "    }\n",
              "</style>\n",
              "<table border=\"1\" class=\"dataframe\">\n",
              "  <thead>\n",
              "    <tr style=\"text-align: right;\">\n",
              "      <th></th>\n",
              "      <th>Q-P1</th>\n",
              "      <th>Q-P2</th>\n",
              "      <th>Q-P3</th>\n",
              "      <th>Q-P4</th>\n",
              "      <th>S-P1</th>\n",
              "      <th>S-P2</th>\n",
              "      <th>S-P3</th>\n",
              "      <th>S-P4</th>\n",
              "    </tr>\n",
              "  </thead>\n",
              "  <tbody>\n",
              "    <tr>\n",
              "      <th>Q-P1</th>\n",
              "      <td>1.000000</td>\n",
              "      <td>-0.001194</td>\n",
              "      <td>-0.005619</td>\n",
              "      <td>-0.054932</td>\n",
              "      <td>1.000000</td>\n",
              "      <td>-0.001194</td>\n",
              "      <td>-0.005619</td>\n",
              "      <td>-0.054932</td>\n",
              "    </tr>\n",
              "    <tr>\n",
              "      <th>Q-P2</th>\n",
              "      <td>-0.001194</td>\n",
              "      <td>1.000000</td>\n",
              "      <td>0.003120</td>\n",
              "      <td>0.014021</td>\n",
              "      <td>-0.001194</td>\n",
              "      <td>1.000000</td>\n",
              "      <td>0.003120</td>\n",
              "      <td>0.014021</td>\n",
              "    </tr>\n",
              "    <tr>\n",
              "      <th>Q-P3</th>\n",
              "      <td>-0.005619</td>\n",
              "      <td>0.003120</td>\n",
              "      <td>1.000000</td>\n",
              "      <td>-0.005917</td>\n",
              "      <td>-0.005619</td>\n",
              "      <td>0.003120</td>\n",
              "      <td>1.000000</td>\n",
              "      <td>-0.005917</td>\n",
              "    </tr>\n",
              "    <tr>\n",
              "      <th>Q-P4</th>\n",
              "      <td>-0.054932</td>\n",
              "      <td>0.014021</td>\n",
              "      <td>-0.005917</td>\n",
              "      <td>1.000000</td>\n",
              "      <td>-0.054932</td>\n",
              "      <td>0.014021</td>\n",
              "      <td>-0.005917</td>\n",
              "      <td>1.000000</td>\n",
              "    </tr>\n",
              "    <tr>\n",
              "      <th>S-P1</th>\n",
              "      <td>1.000000</td>\n",
              "      <td>-0.001194</td>\n",
              "      <td>-0.005619</td>\n",
              "      <td>-0.054932</td>\n",
              "      <td>1.000000</td>\n",
              "      <td>-0.001194</td>\n",
              "      <td>-0.005619</td>\n",
              "      <td>-0.054932</td>\n",
              "    </tr>\n",
              "    <tr>\n",
              "      <th>S-P2</th>\n",
              "      <td>-0.001194</td>\n",
              "      <td>1.000000</td>\n",
              "      <td>0.003120</td>\n",
              "      <td>0.014021</td>\n",
              "      <td>-0.001194</td>\n",
              "      <td>1.000000</td>\n",
              "      <td>0.003120</td>\n",
              "      <td>0.014021</td>\n",
              "    </tr>\n",
              "    <tr>\n",
              "      <th>S-P3</th>\n",
              "      <td>-0.005619</td>\n",
              "      <td>0.003120</td>\n",
              "      <td>1.000000</td>\n",
              "      <td>-0.005917</td>\n",
              "      <td>-0.005619</td>\n",
              "      <td>0.003120</td>\n",
              "      <td>1.000000</td>\n",
              "      <td>-0.005917</td>\n",
              "    </tr>\n",
              "    <tr>\n",
              "      <th>S-P4</th>\n",
              "      <td>-0.054932</td>\n",
              "      <td>0.014021</td>\n",
              "      <td>-0.005917</td>\n",
              "      <td>1.000000</td>\n",
              "      <td>-0.054932</td>\n",
              "      <td>0.014021</td>\n",
              "      <td>-0.005917</td>\n",
              "      <td>1.000000</td>\n",
              "    </tr>\n",
              "  </tbody>\n",
              "</table>\n",
              "</div>\n",
              "      <button class=\"colab-df-convert\" onclick=\"convertToInteractive('df-33c7994b-358e-4115-8ad5-b97f76b691ce')\"\n",
              "              title=\"Convert this dataframe to an interactive table.\"\n",
              "              style=\"display:none;\">\n",
              "        \n",
              "  <svg xmlns=\"http://www.w3.org/2000/svg\" height=\"24px\"viewBox=\"0 0 24 24\"\n",
              "       width=\"24px\">\n",
              "    <path d=\"M0 0h24v24H0V0z\" fill=\"none\"/>\n",
              "    <path d=\"M18.56 5.44l.94 2.06.94-2.06 2.06-.94-2.06-.94-.94-2.06-.94 2.06-2.06.94zm-11 1L8.5 8.5l.94-2.06 2.06-.94-2.06-.94L8.5 2.5l-.94 2.06-2.06.94zm10 10l.94 2.06.94-2.06 2.06-.94-2.06-.94-.94-2.06-.94 2.06-2.06.94z\"/><path d=\"M17.41 7.96l-1.37-1.37c-.4-.4-.92-.59-1.43-.59-.52 0-1.04.2-1.43.59L10.3 9.45l-7.72 7.72c-.78.78-.78 2.05 0 2.83L4 21.41c.39.39.9.59 1.41.59.51 0 1.02-.2 1.41-.59l7.78-7.78 2.81-2.81c.8-.78.8-2.07 0-2.86zM5.41 20L4 18.59l7.72-7.72 1.47 1.35L5.41 20z\"/>\n",
              "  </svg>\n",
              "      </button>\n",
              "      \n",
              "  <style>\n",
              "    .colab-df-container {\n",
              "      display:flex;\n",
              "      flex-wrap:wrap;\n",
              "      gap: 12px;\n",
              "    }\n",
              "\n",
              "    .colab-df-convert {\n",
              "      background-color: #E8F0FE;\n",
              "      border: none;\n",
              "      border-radius: 50%;\n",
              "      cursor: pointer;\n",
              "      display: none;\n",
              "      fill: #1967D2;\n",
              "      height: 32px;\n",
              "      padding: 0 0 0 0;\n",
              "      width: 32px;\n",
              "    }\n",
              "\n",
              "    .colab-df-convert:hover {\n",
              "      background-color: #E2EBFA;\n",
              "      box-shadow: 0px 1px 2px rgba(60, 64, 67, 0.3), 0px 1px 3px 1px rgba(60, 64, 67, 0.15);\n",
              "      fill: #174EA6;\n",
              "    }\n",
              "\n",
              "    [theme=dark] .colab-df-convert {\n",
              "      background-color: #3B4455;\n",
              "      fill: #D2E3FC;\n",
              "    }\n",
              "\n",
              "    [theme=dark] .colab-df-convert:hover {\n",
              "      background-color: #434B5C;\n",
              "      box-shadow: 0px 1px 3px 1px rgba(0, 0, 0, 0.15);\n",
              "      filter: drop-shadow(0px 1px 2px rgba(0, 0, 0, 0.3));\n",
              "      fill: #FFFFFF;\n",
              "    }\n",
              "  </style>\n",
              "\n",
              "      <script>\n",
              "        const buttonEl =\n",
              "          document.querySelector('#df-33c7994b-358e-4115-8ad5-b97f76b691ce button.colab-df-convert');\n",
              "        buttonEl.style.display =\n",
              "          google.colab.kernel.accessAllowed ? 'block' : 'none';\n",
              "\n",
              "        async function convertToInteractive(key) {\n",
              "          const element = document.querySelector('#df-33c7994b-358e-4115-8ad5-b97f76b691ce');\n",
              "          const dataTable =\n",
              "            await google.colab.kernel.invokeFunction('convertToInteractive',\n",
              "                                                     [key], {});\n",
              "          if (!dataTable) return;\n",
              "\n",
              "          const docLinkHtml = 'Like what you see? Visit the ' +\n",
              "            '<a target=\"_blank\" href=https://colab.research.google.com/notebooks/data_table.ipynb>data table notebook</a>'\n",
              "            + ' to learn more about interactive tables.';\n",
              "          element.innerHTML = '';\n",
              "          dataTable['output_type'] = 'display_data';\n",
              "          await google.colab.output.renderOutput(dataTable, element);\n",
              "          const docLink = document.createElement('div');\n",
              "          docLink.innerHTML = docLinkHtml;\n",
              "          element.appendChild(docLink);\n",
              "        }\n",
              "      </script>\n",
              "    </div>\n",
              "  </div>\n",
              "  "
            ]
          },
          "metadata": {},
          "execution_count": 14
        }
      ],
      "source": [
        "#CORRELATION ANALYSIS\n",
        "data_reduced.corr()"
      ]
    },
    {
      "cell_type": "code",
      "execution_count": 15,
      "id": "1aba9418",
      "metadata": {
        "colab": {
          "base_uri": "https://localhost:8080/",
          "height": 853
        },
        "id": "1aba9418",
        "outputId": "0d1abca8-19e1-414b-f3cc-346d3e266e62"
      },
      "outputs": [
        {
          "output_type": "execute_result",
          "data": {
            "text/plain": [
              "<Axes: >"
            ]
          },
          "metadata": {},
          "execution_count": 15
        },
        {
          "output_type": "display_data",
          "data": {
            "text/plain": [
              "<Figure size 1000x1000 with 2 Axes>"
            ],
            "image/png": "[encoded data removed]"
          },
          "metadata": {}
        }
      ],
      "source": [
        "plt.figure(figsize=(10,10))\n",
        "sns.heatmap(data_reduced.corr(),annot=True)"
      ]
    },
    {
      "cell_type": "code",
      "execution_count": 16,
      "id": "9b5e0be8",
      "metadata": {
        "colab": {
          "base_uri": "https://localhost:8080/"
        },
        "id": "9b5e0be8",
        "outputId": "5c881166-92d9-41d0-8cf2-33389482f2a1"
      },
      "outputs": [
        {
          "output_type": "stream",
          "name": "stdout",
          "text": [
            "    Year     Q-P1    Q-P2     Q-P3    Q-P4        S-P1        S-P2  \\\n",
            "0   2011  1435633  751692  1160897  412322  4550956.61  4765727.28   \n",
            "1   2012  1508611  769797  1144590  417920  4782296.87  4880512.98   \n",
            "2   2013  1533099  754526  1116114  405394  4859923.83  4783694.84   \n",
            "3   2014  1572144  789069  1162719  403748  4983696.48  5002697.46   \n",
            "4   2015  1484197  767964  1112136  413251  4704904.49  4868891.76   \n",
            "5   2016  1517603  783892  1112698  408415  4810801.51  4969875.28   \n",
            "6   2017  1469715  808843  1166668  419020  4658996.55  5128064.62   \n",
            "7   2018  1531419  751252  1152070  398550  4854598.23  4762937.68   \n",
            "8   2019  1482623  785373  1135262  410425  4699914.91  4979264.82   \n",
            "9   2020  1498357  778322  1175277  419854  4749791.69  4934561.48   \n",
            "10  2021  1504995  786444  1166733  407373  4770834.15  4986054.96   \n",
            "11  2022  1459829  760510  1115085  389915  4627657.93  4821633.40   \n",
            "\n",
            "          S-P3        S-P4  \n",
            "0   6292061.74  2939855.86  \n",
            "1   6203677.80  2979769.60  \n",
            "2   6049337.88  2890459.22  \n",
            "3   6301936.98  2878723.24  \n",
            "4   6027777.12  2946479.63  \n",
            "5   6030823.16  2911998.95  \n",
            "6   6323340.56  2987612.60  \n",
            "7   6244219.40  2841661.50  \n",
            "8   6153120.04  2926330.25  \n",
            "9   6370001.34  2993559.02  \n",
            "10  6323692.86  2904569.49  \n",
            "11  6043760.70  2780093.95  \n"
          ]
        }
      ],
      "source": [
        "sales_by_year=data_reduced.groupby('Year').sum().reset_index()\n",
        "print(sales_by_year)"
      ]
    },
    {
      "cell_type": "code",
      "execution_count": 17,
      "id": "095d20e2",
      "metadata": {
        "colab": {
          "base_uri": "https://localhost:8080/"
        },
        "id": "095d20e2",
        "outputId": "c13feb4b-3510-4106-8587-1bd33b4a7b7e"
      },
      "outputs": [
        {
          "output_type": "stream",
          "name": "stdout",
          "text": [
            "          Q-P1    Q-P2     Q-P3    Q-P4\n",
            "Month                                  \n",
            "01     1523624  825689  1154182  415185\n",
            "02     1405024  699493  1057576  367420\n",
            "03     1506574  812963  1127503  418276\n",
            "04     1514945  761336  1157296  410606\n",
            "05     1504004  792094  1249675  409208\n",
            "06     1524601  758334  1119747  400807\n",
            "07     1569086  765296  1132366  423951\n",
            "08     1489380  808367  1121974  405372\n",
            "09     1399678  752893  1174812  415644\n",
            "10     1507764  751435  1118691  403087\n",
            "11     1505391  779935  1162968  422512\n",
            "12     1503883  761068  1093924  400313\n",
            "9        44271   18781    49535   13806\n"
          ]
        }
      ],
      "source": [
        "Monthly_Product_Sales= data_reduced.groupby('Month')['Q-P1','Q-P2','Q-P3','Q-P4'].sum()\n",
        "print(Monthly_Product_Sales)"
      ]
    },
    {
      "cell_type": "markdown",
      "id": "66bc0930",
      "metadata": {
        "id": "66bc0930"
      },
      "source": [
        "# WHICH PRODUCT HAS HAD THE HIGHEST SALES OVER THE YEARS"
      ]
    },
    {
      "cell_type": "code",
      "execution_count": 18,
      "id": "ca06d649",
      "metadata": {
        "colab": {
          "base_uri": "https://localhost:8080/"
        },
        "id": "ca06d649",
        "outputId": "d313f549-0f62-405e-abac-cbb4e1d27518"
      },
      "outputs": [
        {
          "output_type": "stream",
          "name": "stdout",
          "text": [
            "Date     01-01-201102-01-201103-01-201104-01-201105-01-...\n",
            "Q-P1                                              17998225\n",
            "Q-P2                                               9287684\n",
            "Q-P3                                              13720249\n",
            "Q-P4                                               4906187\n",
            "S-P1                                           57054373.25\n",
            "S-P2                                           58883916.56\n",
            "S-P3                                           74363749.58\n",
            "S-P4                                           34981113.31\n",
            "Day      0102030405060708091011121314151617181920212223...\n",
            "Month    0101010101010101010101010101010101010101010101...\n",
            "Year     2011201120112011201120112011201120112011201120...\n",
            "dtype: object\n"
          ]
        }
      ],
      "source": [
        "dq = data_reduced.sum()\n",
        "print(dq)"
      ]
    },
    {
      "cell_type": "markdown",
      "id": "213cee79",
      "metadata": {
        "id": "213cee79"
      },
      "source": [
        "# Observation\n",
        "Product P1 has had the highest sales over the years as can be seen above selling 17,998,225 units sold from January 2011 to\n",
        "December 2022."
      ]
    },
    {
      "cell_type": "code",
      "execution_count": 19,
      "id": "aa3001a0",
      "metadata": {
        "id": "aa3001a0"
      },
      "outputs": [],
      "source": [
        "def month_plot():\n",
        "    fig, ax= subplots()"
      ]
    },
    {
      "cell_type": "code",
      "execution_count": 20,
      "id": "6945e3d4",
      "metadata": {
        "id": "6945e3d4"
      },
      "outputs": [],
      "source": [
        "# create a figure and axis\n",
        "def month_plot():\n",
        "    fig, ax= subplots()"
      ]
    },
    {
      "cell_type": "code",
      "execution_count": 21,
      "id": "6bc9c2b1",
      "metadata": {
        "id": "6bc9c2b1"
      },
      "outputs": [],
      "source": [
        "def plot_bar_chart(df, columns, stri, str1, val):\n",
        "    # Aggregate sales for each product by year, by sum or mean\n",
        "    if val == 'sum':\n",
        "        sales_by_year = data_reduced.groupby('Year')[columns].sum().reset_index()\n",
        "    elif val == 'mean':\n",
        "        sales_by_year = data_reduced.groupby('Year')[columns].mean().reset_index()\n",
        "\n",
        "    # Melt the data to make it easier to plot\n",
        "    sales_by_year_melted = pd.melt(sales_by_year, id_vars='Year', value_vars=columns, var_name='Product', value_name='Sales')\n",
        "\n",
        "     # Create a bar chart\n",
        "    plt.figure(figsize=(20,4))\n",
        "    sns.barplot(data=sales_by_year_melted, x='Year', y='Sales', hue='Product') #,palette=\"cividis\")\n",
        "    plt.xlabel('Year')\n",
        "    plt.ylabel(stri)\n",
        "    plt.title(f'{stri} by {str1}')\n",
        "    plt.xticks(rotation=45)\n",
        "    plt.show()"
      ]
    },
    {
      "cell_type": "code",
      "execution_count": 22,
      "id": "4331705e",
      "metadata": {
        "colab": {
          "base_uri": "https://localhost:8080/",
          "height": 437
        },
        "id": "4331705e",
        "outputId": "2c3c3a2d-b343-4c1b-c0ee-dac1a79ebcdc"
      },
      "outputs": [
        {
          "output_type": "display_data",
          "data": {
            "text/plain": [
              "<Figure size 2000x400 with 1 Axes>"
            ],
            "image/png": "[encoded data removed]"
          },
          "metadata": {}
        },
        {
          "output_type": "display_data",
          "data": {
            "text/plain": [
              "<Figure size 2000x400 with 1 Axes>"
            ],
            "image/png": "[encoded data removed]"
          },
          "metadata": {}
        }
      ],
      "source": [
        "#use the plot_bar_chart function, enter the Unit Sales Columns and the Unit Sales string\n",
        "plot_bar_chart(data_reduced, ['Q-P1', 'Q-P2', 'Q-P3', 'Q-P4'],'Total Unit Sales', 'Year', 'sum')\n",
        "\n",
        "plot_bar_chart(data_reduced, ['Q-P1', 'Q-P2', 'Q-P3', 'Q-P4'],'Mean Unit Sales', 'Year', 'mean')"
      ]
    },
    {
      "cell_type": "code",
      "execution_count": null,
      "id": "87090de2",
      "metadata": {
        "id": "87090de2"
      },
      "outputs": [],
      "source": []
    },
    {
      "cell_type": "code",
      "execution_count": 23,
      "id": "5dddee46",
      "metadata": {
        "colab": {
          "base_uri": "https://localhost:8080/",
          "height": 437
        },
        "id": "5dddee46",
        "outputId": "da6945ee-742e-4d76-e85d-edad5f7bd530"
      },
      "outputs": [
        {
          "output_type": "display_data",
          "data": {
            "text/plain": [
              "<Figure size 2000x400 with 1 Axes>"
            ],
            "image/png": "[encoded data removed]"
          },
          "metadata": {}
        },
        {
          "output_type": "display_data",
          "data": {
            "text/plain": [
              "<Figure size 2000x400 with 1 Axes>"
            ],
            "image/png": "[encoded data removed]"
          },
          "metadata": {}
        }
      ],
      "source": [
        "#use the plot_bar_chart function, enter the Revenue Columns and the Revenue string\n",
        "plot_bar_chart(data_reduced, ['S-P1', 'S-P2', 'S-P3', 'S-P4'], 'Total Revenue', 'Year', 'sum')\n",
        "\n",
        "plot_bar_chart(data_reduced, ['S-P1', 'S-P2', 'S-P3', 'S-P4'], 'Mean Revenue', 'Year', 'mean')"
      ]
    },
    {
      "cell_type": "code",
      "execution_count": 24,
      "id": "1fd3ad1f",
      "metadata": {
        "colab": {
          "base_uri": "https://localhost:8080/"
        },
        "id": "1fd3ad1f",
        "outputId": "de0b6185-5960-4073-9106-43cbaec1fbe9"
      },
      "outputs": [
        {
          "output_type": "stream",
          "name": "stdout",
          "text": [
            "             S-P1        S-P2        S-P3        S-P4\n",
            "Month                                                \n",
            "01     4829888.08  5234868.26  6255666.44  2960269.05\n",
            "02     4453926.08  4434785.62  5732061.92  2619704.60\n",
            "03     4775839.58  5154185.42  6111066.26  2982307.88\n",
            "04     4802375.65  4826870.24  6272544.32  2927620.78\n",
            "05     4767692.68  5021875.96  6773238.50  2917653.04\n",
            "06     4832985.17  4807837.56  6069028.74  2857753.91\n",
            "07     4974002.62  4851976.64  6137423.72  3022770.63\n",
            "08     4721334.60  5125046.78  6081099.08  2890302.36\n",
            "09     4436979.26  4773341.62  6367481.04  2963541.72\n",
            "10     4779611.88  4764097.90  6063305.22  2874010.31\n",
            "11     4772089.47  4944787.90  6303286.56  3012510.56\n",
            "12     4767309.11  4825171.12  5929068.08  2854231.69\n",
            "9       140339.07   119071.54   268479.70    98436.78\n"
          ]
        }
      ],
      "source": [
        "Monthly_Revenue= data_reduced.groupby('Month')['S-P1','S-P2','S-P3','S-P4'].sum()\n",
        "print(Monthly_Revenue)\n"
      ]
    },
    {
      "cell_type": "code",
      "execution_count": 25,
      "id": "7abc4007",
      "metadata": {
        "colab": {
          "base_uri": "https://localhost:8080/",
          "height": 472
        },
        "id": "7abc4007",
        "outputId": "b10ed8e1-4f34-474d-850f-fda429701d41"
      },
      "outputs": [
        {
          "output_type": "display_data",
          "data": {
            "text/plain": [
              "<Figure size 640x480 with 1 Axes>"
            ],
            "image/png": "[encoded data removed]"
          },
          "metadata": {}
        }
      ],
      "source": [
        "# Create a figure and axis\n",
        "def month_plot():\n",
        "    fig, ax = plt.subplots()\n",
        "\n",
        "    # Plot the sales data for each product by month\n",
        "    data_reduced.groupby('Month')[['Q-P1', 'Q-P2', 'Q-P3', 'Q-P4']].sum().plot(ax=ax)\n",
        "\n",
        "    # Set the x-axis limits to only show up to December\n",
        "    ax.set_xlim(left=0, right=13)\n",
        "\n",
        "    # Set the axis labels and title\n",
        "    ax.set_xlabel('Month')\n",
        "    ax.set_ylabel('Total unit sales')\n",
        "    ax.set_title('Trend in sales of all four products by month')\n",
        "\n",
        "    # Show the plot\n",
        "    plt.show()\n",
        "\n",
        "month_plot()"
      ]
    },
    {
      "cell_type": "markdown",
      "id": "c336a616",
      "metadata": {
        "id": "c336a616"
      },
      "source": [
        "We can observe that all products drop in Feb.\n",
        "There also appears a very drastic drop after 12th month.\n",
        "The value show 9, which must be part of month 09. We need to rename this column to match with the 09. Before doing further analysis.\n"
      ]
    },
    {
      "cell_type": "code",
      "execution_count": 26,
      "id": "d8174ab8",
      "metadata": {
        "colab": {
          "base_uri": "https://localhost:8080/",
          "height": 472
        },
        "id": "d8174ab8",
        "outputId": "df006adc-e4cf-444d-fa33-cbac4b4c0561"
      },
      "outputs": [
        {
          "output_type": "display_data",
          "data": {
            "text/plain": [
              "<Figure size 640x480 with 1 Axes>"
            ],
            "image/png": "[encoded data removed]"
          },
          "metadata": {}
        }
      ],
      "source": [
        "# Replace all entries of '9' in the Month column with '09'\n",
        "data_reduced['Month'] = data['Month'].replace('9', '09')\n",
        "month_plot()"
      ]
    },
    {
      "cell_type": "markdown",
      "id": "01017ec6",
      "metadata": {
        "id": "01017ec6"
      },
      "source": [
        "observation\n",
        "\n",
        "We have merged the sales for months 9 and 09.\n",
        "We can observe that Feb and Dec have the lowest sales for each product\n",
        "For P1 We can observe Mar - Jul having the highest unit sales\n",
        "For P2 We can observe Jan, Mar - Aug having the highest unit sales\n",
        "For P3 We can observe May & Sep having the highest unit sales\n",
        "For P4 We can observe uniform sales from Jan - Dec"
      ]
    },
    {
      "cell_type": "markdown",
      "id": "671d7a37",
      "metadata": {
        "id": "671d7a37"
      },
      "source": [
        "Estimate for each product the unit of sales that could be sold on 31st of Dec, if all their retail centers were kept open.¶\n",
        "Question\n",
        "\n",
        "The company has all it's retail centers closed on the 31st of December every year. Mr: Hariharan , the CEO , would love to get an estimate on no: of units of each product that could be sold on 31st of Dec , every year , if all their retail centers were kept open."
      ]
    },
    {
      "cell_type": "code",
      "execution_count": 27,
      "id": "843d4039",
      "metadata": {
        "colab": {
          "base_uri": "https://localhost:8080/",
          "height": 423
        },
        "id": "843d4039",
        "outputId": "7653383f-c496-4cae-e400-170273700fee"
      },
      "outputs": [
        {
          "output_type": "execute_result",
          "data": {
            "text/plain": [
              "            Date  Q-P1  Q-P2  Q-P3  Q-P4      S-P1      S-P2      S-P3  \\\n",
              "231   31-01-2011   939  3325  1863  1612   2976.63  21080.50  10097.46   \n",
              "290   31-03-2011   464  2220   421  1663   1470.88  14074.80   2281.82   \n",
              "351   31-05-2011  1507  2980  3816  1202   4777.19  18893.20  20682.72   \n",
              "412   31-07-2011  4336   744  4717   667  13745.12   4716.96  25566.14   \n",
              "442   31-08-2011  4548  1484  1596  1974  14417.16   9408.56   8650.32   \n",
              "...          ...   ...   ...   ...   ...       ...       ...       ...   \n",
              "4352  31-05-2022  3669  2710  3067  1593  11630.73  17181.40  16623.14   \n",
              "4413  31-07-2022  1437   833  1867  1270   4555.29   5281.22  10119.14   \n",
              "4443  31-08-2022  1035  1639  3658   841   3280.95  10391.26  19826.36   \n",
              "4474   31-9-2022  6964  1873  5481  1336  22075.88  11874.82  29707.02   \n",
              "4535  31-11-2022  4600  2006  3796  1426  14582.00  12718.04  20574.32   \n",
              "\n",
              "          S-P4 Day Month  Year  \n",
              "231   11493.56  31    01  2011  \n",
              "290   11857.19  31    03  2011  \n",
              "351    8570.26  31    05  2011  \n",
              "412    4755.71  31    07  2011  \n",
              "442   14074.62  31    08  2011  \n",
              "...        ...  ..   ...   ...  \n",
              "4352  11358.09  31    05  2022  \n",
              "4413   9055.10  31    07  2022  \n",
              "4443   5996.33  31    08  2022  \n",
              "4474   9525.68  31    09  2022  \n",
              "4535  10167.38  31    11  2022  \n",
              "\n",
              "[84 rows x 12 columns]"
            ],
            "text/html": [
              "\n",
              "  <div id=\"df-47a05123-ed71-4a7c-9ca6-fb07e9f50bc1\">\n",
              "    <div class=\"colab-df-container\">\n",
              "      <div>\n",
              "<style scoped>\n",
              "    .dataframe tbody tr th:only-of-type {\n",
              "        vertical-align: middle;\n",
              "    }\n",
              "\n",
              "    .dataframe tbody tr th {\n",
              "        vertical-align: top;\n",
              "    }\n",
              "\n",
              "    .dataframe thead th {\n",
              "        text-align: right;\n",
              "    }\n",
              "</style>\n",
              "<table border=\"1\" class=\"dataframe\">\n",
              "  <thead>\n",
              "    <tr style=\"text-align: right;\">\n",
              "      <th></th>\n",
              "      <th>Date</th>\n",
              "      <th>Q-P1</th>\n",
              "      <th>Q-P2</th>\n",
              "      <th>Q-P3</th>\n",
              "      <th>Q-P4</th>\n",
              "      <th>S-P1</th>\n",
              "      <th>S-P2</th>\n",
              "      <th>S-P3</th>\n",
              "      <th>S-P4</th>\n",
              "      <th>Day</th>\n",
              "      <th>Month</th>\n",
              "      <th>Year</th>\n",
              "    </tr>\n",
              "  </thead>\n",
              "  <tbody>\n",
              "    <tr>\n",
              "      <th>231</th>\n",
              "      <td>31-01-2011</td>\n",
              "      <td>939</td>\n",
              "      <td>3325</td>\n",
              "      <td>1863</td>\n",
              "      <td>1612</td>\n",
              "      <td>2976.63</td>\n",
              "      <td>21080.50</td>\n",
              "      <td>10097.46</td>\n",
              "      <td>11493.56</td>\n",
              "      <td>31</td>\n",
              "      <td>01</td>\n",
              "      <td>2011</td>\n",
              "    </tr>\n",
              "    <tr>\n",
              "      <th>290</th>\n",
              "      <td>31-03-2011</td>\n",
              "      <td>464</td>\n",
              "      <td>2220</td>\n",
              "      <td>421</td>\n",
              "      <td>1663</td>\n",
              "      <td>1470.88</td>\n",
              "      <td>14074.80</td>\n",
              "      <td>2281.82</td>\n",
              "      <td>11857.19</td>\n",
              "      <td>31</td>\n",
              "      <td>03</td>\n",
              "      <td>2011</td>\n",
              "    </tr>\n",
              "    <tr>\n",
              "      <th>351</th>\n",
              "      <td>31-05-2011</td>\n",
              "      <td>1507</td>\n",
              "      <td>2980</td>\n",
              "      <td>3816</td>\n",
              "      <td>1202</td>\n",
              "      <td>4777.19</td>\n",
              "      <td>18893.20</td>\n",
              "      <td>20682.72</td>\n",
              "      <td>8570.26</td>\n",
              "      <td>31</td>\n",
              "      <td>05</td>\n",
              "      <td>2011</td>\n",
              "    </tr>\n",
              "    <tr>\n",
              "      <th>412</th>\n",
              "      <td>31-07-2011</td>\n",
              "      <td>4336</td>\n",
              "      <td>744</td>\n",
              "      <td>4717</td>\n",
              "      <td>667</td>\n",
              "      <td>13745.12</td>\n",
              "      <td>4716.96</td>\n",
              "      <td>25566.14</td>\n",
              "      <td>4755.71</td>\n",
              "      <td>31</td>\n",
              "      <td>07</td>\n",
              "      <td>2011</td>\n",
              "    </tr>\n",
              "    <tr>\n",
              "      <th>442</th>\n",
              "      <td>31-08-2011</td>\n",
              "      <td>4548</td>\n",
              "      <td>1484</td>\n",
              "      <td>1596</td>\n",
              "      <td>1974</td>\n",
              "      <td>14417.16</td>\n",
              "      <td>9408.56</td>\n",
              "      <td>8650.32</td>\n",
              "      <td>14074.62</td>\n",
              "      <td>31</td>\n",
              "      <td>08</td>\n",
              "      <td>2011</td>\n",
              "    </tr>\n",
              "    <tr>\n",
              "      <th>...</th>\n",
              "      <td>...</td>\n",
              "      <td>...</td>\n",
              "      <td>...</td>\n",
              "      <td>...</td>\n",
              "      <td>...</td>\n",
              "      <td>...</td>\n",
              "      <td>...</td>\n",
              "      <td>...</td>\n",
              "      <td>...</td>\n",
              "      <td>...</td>\n",
              "      <td>...</td>\n",
              "      <td>...</td>\n",
              "    </tr>\n",
              "    <tr>\n",
              "      <th>4352</th>\n",
              "      <td>31-05-2022</td>\n",
              "      <td>3669</td>\n",
              "      <td>2710</td>\n",
              "      <td>3067</td>\n",
              "      <td>1593</td>\n",
              "      <td>11630.73</td>\n",
              "      <td>17181.40</td>\n",
              "      <td>16623.14</td>\n",
              "      <td>11358.09</td>\n",
              "      <td>31</td>\n",
              "      <td>05</td>\n",
              "      <td>2022</td>\n",
              "    </tr>\n",
              "    <tr>\n",
              "      <th>4413</th>\n",
              "      <td>31-07-2022</td>\n",
              "      <td>1437</td>\n",
              "      <td>833</td>\n",
              "      <td>1867</td>\n",
              "      <td>1270</td>\n",
              "      <td>4555.29</td>\n",
              "      <td>5281.22</td>\n",
              "      <td>10119.14</td>\n",
              "      <td>9055.10</td>\n",
              "      <td>31</td>\n",
              "      <td>07</td>\n",
              "      <td>2022</td>\n",
              "    </tr>\n",
              "    <tr>\n",
              "      <th>4443</th>\n",
              "      <td>31-08-2022</td>\n",
              "      <td>1035</td>\n",
              "      <td>1639</td>\n",
              "      <td>3658</td>\n",
              "      <td>841</td>\n",
              "      <td>3280.95</td>\n",
              "      <td>10391.26</td>\n",
              "      <td>19826.36</td>\n",
              "      <td>5996.33</td>\n",
              "      <td>31</td>\n",
              "      <td>08</td>\n",
              "      <td>2022</td>\n",
              "    </tr>\n",
              "    <tr>\n",
              "      <th>4474</th>\n",
              "      <td>31-9-2022</td>\n",
              "      <td>6964</td>\n",
              "      <td>1873</td>\n",
              "      <td>5481</td>\n",
              "      <td>1336</td>\n",
              "      <td>22075.88</td>\n",
              "      <td>11874.82</td>\n",
              "      <td>29707.02</td>\n",
              "      <td>9525.68</td>\n",
              "      <td>31</td>\n",
              "      <td>09</td>\n",
              "      <td>2022</td>\n",
              "    </tr>\n",
              "    <tr>\n",
              "      <th>4535</th>\n",
              "      <td>31-11-2022</td>\n",
              "      <td>4600</td>\n",
              "      <td>2006</td>\n",
              "      <td>3796</td>\n",
              "      <td>1426</td>\n",
              "      <td>14582.00</td>\n",
              "      <td>12718.04</td>\n",
              "      <td>20574.32</td>\n",
              "      <td>10167.38</td>\n",
              "      <td>31</td>\n",
              "      <td>11</td>\n",
              "      <td>2022</td>\n",
              "    </tr>\n",
              "  </tbody>\n",
              "</table>\n",
              "<p>84 rows × 12 columns</p>\n",
              "</div>\n",
              "      <button class=\"colab-df-convert\" onclick=\"convertToInteractive('df-47a05123-ed71-4a7c-9ca6-fb07e9f50bc1')\"\n",
              "              title=\"Convert this dataframe to an interactive table.\"\n",
              "              style=\"display:none;\">\n",
              "        \n",
              "  <svg xmlns=\"http://www.w3.org/2000/svg\" height=\"24px\"viewBox=\"0 0 24 24\"\n",
              "       width=\"24px\">\n",
              "    <path d=\"M0 0h24v24H0V0z\" fill=\"none\"/>\n",
              "    <path d=\"M18.56 5.44l.94 2.06.94-2.06 2.06-.94-2.06-.94-.94-2.06-.94 2.06-2.06.94zm-11 1L8.5 8.5l.94-2.06 2.06-.94-2.06-.94L8.5 2.5l-.94 2.06-2.06.94zm10 10l.94 2.06.94-2.06 2.06-.94-2.06-.94-.94-2.06-.94 2.06-2.06.94z\"/><path d=\"M17.41 7.96l-1.37-1.37c-.4-.4-.92-.59-1.43-.59-.52 0-1.04.2-1.43.59L10.3 9.45l-7.72 7.72c-.78.78-.78 2.05 0 2.83L4 21.41c.39.39.9.59 1.41.59.51 0 1.02-.2 1.41-.59l7.78-7.78 2.81-2.81c.8-.78.8-2.07 0-2.86zM5.41 20L4 18.59l7.72-7.72 1.47 1.35L5.41 20z\"/>\n",
              "  </svg>\n",
              "      </button>\n",
              "      \n",
              "  <style>\n",
              "    .colab-df-container {\n",
              "      display:flex;\n",
              "      flex-wrap:wrap;\n",
              "      gap: 12px;\n",
              "    }\n",
              "\n",
              "    .colab-df-convert {\n",
              "      background-color: #E8F0FE;\n",
              "      border: none;\n",
              "      border-radius: 50%;\n",
              "      cursor: pointer;\n",
              "      display: none;\n",
              "      fill: #1967D2;\n",
              "      height: 32px;\n",
              "      padding: 0 0 0 0;\n",
              "      width: 32px;\n",
              "    }\n",
              "\n",
              "    .colab-df-convert:hover {\n",
              "      background-color: #E2EBFA;\n",
              "      box-shadow: 0px 1px 2px rgba(60, 64, 67, 0.3), 0px 1px 3px 1px rgba(60, 64, 67, 0.15);\n",
              "      fill: #174EA6;\n",
              "    }\n",
              "\n",
              "    [theme=dark] .colab-df-convert {\n",
              "      background-color: #3B4455;\n",
              "      fill: #D2E3FC;\n",
              "    }\n",
              "\n",
              "    [theme=dark] .colab-df-convert:hover {\n",
              "      background-color: #434B5C;\n",
              "      box-shadow: 0px 1px 3px 1px rgba(0, 0, 0, 0.15);\n",
              "      filter: drop-shadow(0px 1px 2px rgba(0, 0, 0, 0.3));\n",
              "      fill: #FFFFFF;\n",
              "    }\n",
              "  </style>\n",
              "\n",
              "      <script>\n",
              "        const buttonEl =\n",
              "          document.querySelector('#df-47a05123-ed71-4a7c-9ca6-fb07e9f50bc1 button.colab-df-convert');\n",
              "        buttonEl.style.display =\n",
              "          google.colab.kernel.accessAllowed ? 'block' : 'none';\n",
              "\n",
              "        async function convertToInteractive(key) {\n",
              "          const element = document.querySelector('#df-47a05123-ed71-4a7c-9ca6-fb07e9f50bc1');\n",
              "          const dataTable =\n",
              "            await google.colab.kernel.invokeFunction('convertToInteractive',\n",
              "                                                     [key], {});\n",
              "          if (!dataTable) return;\n",
              "\n",
              "          const docLinkHtml = 'Like what you see? Visit the ' +\n",
              "            '<a target=\"_blank\" href=https://colab.research.google.com/notebooks/data_table.ipynb>data table notebook</a>'\n",
              "            + ' to learn more about interactive tables.';\n",
              "          element.innerHTML = '';\n",
              "          dataTable['output_type'] = 'display_data';\n",
              "          await google.colab.output.renderOutput(dataTable, element);\n",
              "          const docLink = document.createElement('div');\n",
              "          docLink.innerHTML = docLinkHtml;\n",
              "          element.appendChild(docLink);\n",
              "        }\n",
              "      </script>\n",
              "    </div>\n",
              "  </div>\n",
              "  "
            ]
          },
          "metadata": {},
          "execution_count": 27
        }
      ],
      "source": [
        "#get the 31st day for each month in each year. Note: not every month has 31 days\n",
        "def month_31_data(df, months):\n",
        "    m31_data = df[df['Month'].isin(months) & (df['Day'] == '31')]\n",
        "    return m31_data\n",
        "\n",
        "_31_months = month_31_data(data_reduced, ['01', '02', '03', '04', '05', '06', '07', '08', '09', '10', '11', '12'])\n",
        "_31_months\n"
      ]
    },
    {
      "cell_type": "code",
      "execution_count": 28,
      "id": "bd7df0ef",
      "metadata": {
        "colab": {
          "base_uri": "https://localhost:8080/",
          "height": 226
        },
        "id": "bd7df0ef",
        "outputId": "270a209f-4540-49f7-cf96-71da454116a3"
      },
      "outputs": [
        {
          "output_type": "display_data",
          "data": {
            "text/plain": [
              "<Figure size 2000x400 with 1 Axes>"
            ],
            "image/png": "[encoded data removed]"
          },
          "metadata": {}
        }
      ],
      "source": [
        "plot_bar_chart(_31_months, ['Q-P1', 'Q-P2', 'Q-P3', 'Q-P4'], 'Average Units', 'each Month, for 31st', 'mean')"
      ]
    },
    {
      "cell_type": "code",
      "execution_count": 29,
      "id": "84263da5",
      "metadata": {
        "colab": {
          "base_uri": "https://localhost:8080/",
          "height": 225
        },
        "id": "84263da5",
        "outputId": "a993be68-3bbe-4e39-a921-6d121346d468"
      },
      "outputs": [
        {
          "output_type": "display_data",
          "data": {
            "text/plain": [
              "<Figure size 2000x400 with 1 Axes>"
            ],
            "image/png": "[encoded data removed]"
          },
          "metadata": {}
        }
      ],
      "source": [
        "plot_bar_chart(_31_months, ['S-P1', 'S-P2', 'S-P3', 'S-P4'], 'Average Revenue', 'each Month, for 31st', 'mean')"
      ]
    },
    {
      "cell_type": "markdown",
      "id": "57ba8e94",
      "metadata": {
        "id": "57ba8e94"
      },
      "source": [
        "\n",
        "Overall we can see that P1 has the highest unit sales on the 31st for each year, except for 2021 and 2022. (These could be as a result to Covid and other economy issues.)\n",
        "P3 has the second highest unit sales for all the 31st in each year."
      ]
    },
    {
      "cell_type": "code",
      "execution_count": 30,
      "id": "ce467292",
      "metadata": {
        "id": "ce467292"
      },
      "outputs": [],
      "source": [
        "# gives us the average for all the 31st days across all years for each product\n",
        "def avg_on_31st(df, product):\n",
        "    df_31 = df[df['Day'] == '31']\n",
        "    avg_sales = df_31[product].mean()\n",
        "    return avg_sales"
      ]
    },
    {
      "cell_type": "code",
      "execution_count": 31,
      "id": "584ad0ac",
      "metadata": {
        "colab": {
          "base_uri": "https://localhost:8080/"
        },
        "id": "584ad0ac",
        "outputId": "eb317480-9bb9-43bf-b454-89bafdd97787"
      },
      "outputs": [
        {
          "output_type": "execute_result",
          "data": {
            "text/plain": [
              "Q-P1    3813.74\n",
              "Q-P2    2058.80\n",
              "Q-P3    3183.88\n",
              "Q-P4    1098.61\n",
              "dtype: float64"
            ]
          },
          "metadata": {},
          "execution_count": 31
        }
      ],
      "source": [
        "# Average for Unit Sales\n",
        "avg_on_31st(data_reduced, ['Q-P1', 'Q-P2', 'Q-P3', 'Q-P4']).round(2)\n"
      ]
    },
    {
      "cell_type": "code",
      "execution_count": 32,
      "id": "eb74b8fd",
      "metadata": {
        "colab": {
          "base_uri": "https://localhost:8080/"
        },
        "id": "eb74b8fd",
        "outputId": "2a40d40f-b63f-4b3d-a7da-3c3abeaf0fe6"
      },
      "outputs": [
        {
          "output_type": "execute_result",
          "data": {
            "text/plain": [
              "S-P1    12089.55\n",
              "S-P2    13052.78\n",
              "S-P3    17256.63\n",
              "S-P4     7833.07\n",
              "dtype: float64"
            ]
          },
          "metadata": {},
          "execution_count": 32
        }
      ],
      "source": [
        "# Average for Revenue\n",
        "avg_on_31st(data_reduced, ['S-P1', 'S-P2', 'S-P3', 'S-P4']).round(2)\n"
      ]
    },
    {
      "cell_type": "code",
      "execution_count": 33,
      "id": "f9395b7e",
      "metadata": {
        "colab": {
          "base_uri": "https://localhost:8080/"
        },
        "id": "f9395b7e",
        "outputId": "254bd3bb-0545-4b2b-b94f-d4dc3a5badaf"
      },
      "outputs": [
        {
          "output_type": "stream",
          "name": "stdout",
          "text": [
            "            Date  Q-P1  Q-P2  Q-P3  Q-P4      S-P1      S-P2      S-P3  \\\n",
            "0     13-06-2010  5422  3725   576   907  17187.74  23616.50   3121.92   \n",
            "1     14-06-2010  7047   779  3578  1574  22338.99   4938.86  19392.76   \n",
            "2     15-06-2010  1572  2082   595  1145   4983.24  13199.88   3224.90   \n",
            "3     16-06-2010  5657  2399  3140  1672  17932.69  15209.66  17018.80   \n",
            "4     17-06-2010  3668  3207  2184   708  11627.56  20332.38  11837.28   \n",
            "...          ...   ...   ...   ...   ...       ...       ...       ...   \n",
            "4595  30-01-2023  2476  3419   525  1359   7848.92  21676.46   2845.50   \n",
            "4596  31-01-2023  7446   841  4825  1311  23603.82   5331.94  26151.50   \n",
            "4597  01-02-2023  6289  3143  3588   474  19936.13  19926.62  19446.96   \n",
            "4598  02-02-2023  3122  1188  5899   517   9896.74   7531.92  31972.58   \n",
            "4599  03-02-2023  1234  3854  2321   406   3911.78  24434.36  12579.82   \n",
            "\n",
            "          S-P4 Day Month  Year  \n",
            "0      6466.91  13    06  2010  \n",
            "1     11222.62  14    06  2010  \n",
            "2      8163.85  15    06  2010  \n",
            "3     11921.36  16    06  2010  \n",
            "4      5048.04  17    06  2010  \n",
            "...        ...  ..   ...   ...  \n",
            "4595   9689.67  30    01  2023  \n",
            "4596   9347.43  31    01  2023  \n",
            "4597   3379.62  01    02  2023  \n",
            "4598   3686.21  02    02  2023  \n",
            "4599   2894.78  03    02  2023  \n",
            "\n",
            "[4600 rows x 12 columns]\n"
          ]
        }
      ],
      "source": [
        "grouped_data=data.groupby(['Q-P1', 'Q-P2', 'Q-P3', 'Q-P4','Month'])\n",
        "print(data)"
      ]
    },
    {
      "cell_type": "code",
      "execution_count": 34,
      "id": "b7b3dc60",
      "metadata": {
        "colab": {
          "base_uri": "https://localhost:8080/",
          "height": 455
        },
        "id": "b7b3dc60",
        "outputId": "104e0dd4-0f09-49d3-a4f0-ca64d71cc62b"
      },
      "outputs": [
        {
          "output_type": "execute_result",
          "data": {
            "text/plain": [
              "                                     Q-P1  Q-P2  Q-P3  Q-P4\n",
              "S-P1     S-P2     S-P3     S-P4                            \n",
              "805.18   6802.82  3696.44  9917.83    254  1073   682  1391\n",
              "         21689.14 3035.20  7293.99    254  3421   560  1023\n",
              "808.35   25068.36 7701.82  13532.74   255  3954  1421  1898\n",
              "811.52   22183.66 28173.16 5026.65    256  3499  5198   705\n",
              "833.71   10359.56 5967.42  9839.40    263  1634  1101  1380\n",
              "...                                   ...   ...   ...   ...\n",
              "25334.64 14943.38 24541.76 9411.60   7992  2357  4528  1320\n",
              "25340.98 5737.70  18644.80 5846.60   7994   905  3440   820\n",
              "         19831.52 6840.04  8306.45   7994  3128  1262  1165\n",
              "25347.32 16940.48 17978.14 8292.19   7996  2672  3317  1163\n",
              "25353.66 24833.78 11826.44 3087.29   7998  3917  2182   433\n",
              "\n",
              "[4600 rows x 4 columns]"
            ],
            "text/html": [
              "\n",
              "  <div id=\"df-b1c3393f-ea7b-4b80-a3de-8859eaf5349c\">\n",
              "    <div class=\"colab-df-container\">\n",
              "      <div>\n",
              "<style scoped>\n",
              "    .dataframe tbody tr th:only-of-type {\n",
              "        vertical-align: middle;\n",
              "    }\n",
              "\n",
              "    .dataframe tbody tr th {\n",
              "        vertical-align: top;\n",
              "    }\n",
              "\n",
              "    .dataframe thead th {\n",
              "        text-align: right;\n",
              "    }\n",
              "</style>\n",
              "<table border=\"1\" class=\"dataframe\">\n",
              "  <thead>\n",
              "    <tr style=\"text-align: right;\">\n",
              "      <th></th>\n",
              "      <th></th>\n",
              "      <th></th>\n",
              "      <th></th>\n",
              "      <th>Q-P1</th>\n",
              "      <th>Q-P2</th>\n",
              "      <th>Q-P3</th>\n",
              "      <th>Q-P4</th>\n",
              "    </tr>\n",
              "    <tr>\n",
              "      <th>S-P1</th>\n",
              "      <th>S-P2</th>\n",
              "      <th>S-P3</th>\n",
              "      <th>S-P4</th>\n",
              "      <th></th>\n",
              "      <th></th>\n",
              "      <th></th>\n",
              "      <th></th>\n",
              "    </tr>\n",
              "  </thead>\n",
              "  <tbody>\n",
              "    <tr>\n",
              "      <th rowspan=\"2\" valign=\"top\">805.18</th>\n",
              "      <th>6802.82</th>\n",
              "      <th>3696.44</th>\n",
              "      <th>9917.83</th>\n",
              "      <td>254</td>\n",
              "      <td>1073</td>\n",
              "      <td>682</td>\n",
              "      <td>1391</td>\n",
              "    </tr>\n",
              "    <tr>\n",
              "      <th>21689.14</th>\n",
              "      <th>3035.20</th>\n",
              "      <th>7293.99</th>\n",
              "      <td>254</td>\n",
              "      <td>3421</td>\n",
              "      <td>560</td>\n",
              "      <td>1023</td>\n",
              "    </tr>\n",
              "    <tr>\n",
              "      <th>808.35</th>\n",
              "      <th>25068.36</th>\n",
              "      <th>7701.82</th>\n",
              "      <th>13532.74</th>\n",
              "      <td>255</td>\n",
              "      <td>3954</td>\n",
              "      <td>1421</td>\n",
              "      <td>1898</td>\n",
              "    </tr>\n",
              "    <tr>\n",
              "      <th>811.52</th>\n",
              "      <th>22183.66</th>\n",
              "      <th>28173.16</th>\n",
              "      <th>5026.65</th>\n",
              "      <td>256</td>\n",
              "      <td>3499</td>\n",
              "      <td>5198</td>\n",
              "      <td>705</td>\n",
              "    </tr>\n",
              "    <tr>\n",
              "      <th>833.71</th>\n",
              "      <th>10359.56</th>\n",
              "      <th>5967.42</th>\n",
              "      <th>9839.40</th>\n",
              "      <td>263</td>\n",
              "      <td>1634</td>\n",
              "      <td>1101</td>\n",
              "      <td>1380</td>\n",
              "    </tr>\n",
              "    <tr>\n",
              "      <th>...</th>\n",
              "      <th>...</th>\n",
              "      <th>...</th>\n",
              "      <th>...</th>\n",
              "      <td>...</td>\n",
              "      <td>...</td>\n",
              "      <td>...</td>\n",
              "      <td>...</td>\n",
              "    </tr>\n",
              "    <tr>\n",
              "      <th>25334.64</th>\n",
              "      <th>14943.38</th>\n",
              "      <th>24541.76</th>\n",
              "      <th>9411.60</th>\n",
              "      <td>7992</td>\n",
              "      <td>2357</td>\n",
              "      <td>4528</td>\n",
              "      <td>1320</td>\n",
              "    </tr>\n",
              "    <tr>\n",
              "      <th rowspan=\"2\" valign=\"top\">25340.98</th>\n",
              "      <th>5737.70</th>\n",
              "      <th>18644.80</th>\n",
              "      <th>5846.60</th>\n",
              "      <td>7994</td>\n",
              "      <td>905</td>\n",
              "      <td>3440</td>\n",
              "      <td>820</td>\n",
              "    </tr>\n",
              "    <tr>\n",
              "      <th>19831.52</th>\n",
              "      <th>6840.04</th>\n",
              "      <th>8306.45</th>\n",
              "      <td>7994</td>\n",
              "      <td>3128</td>\n",
              "      <td>1262</td>\n",
              "      <td>1165</td>\n",
              "    </tr>\n",
              "    <tr>\n",
              "      <th>25347.32</th>\n",
              "      <th>16940.48</th>\n",
              "      <th>17978.14</th>\n",
              "      <th>8292.19</th>\n",
              "      <td>7996</td>\n",
              "      <td>2672</td>\n",
              "      <td>3317</td>\n",
              "      <td>1163</td>\n",
              "    </tr>\n",
              "    <tr>\n",
              "      <th>25353.66</th>\n",
              "      <th>24833.78</th>\n",
              "      <th>11826.44</th>\n",
              "      <th>3087.29</th>\n",
              "      <td>7998</td>\n",
              "      <td>3917</td>\n",
              "      <td>2182</td>\n",
              "      <td>433</td>\n",
              "    </tr>\n",
              "  </tbody>\n",
              "</table>\n",
              "<p>4600 rows × 4 columns</p>\n",
              "</div>\n",
              "      <button class=\"colab-df-convert\" onclick=\"convertToInteractive('df-b1c3393f-ea7b-4b80-a3de-8859eaf5349c')\"\n",
              "              title=\"Convert this dataframe to an interactive table.\"\n",
              "              style=\"display:none;\">\n",
              "        \n",
              "  <svg xmlns=\"http://www.w3.org/2000/svg\" height=\"24px\"viewBox=\"0 0 24 24\"\n",
              "       width=\"24px\">\n",
              "    <path d=\"M0 0h24v24H0V0z\" fill=\"none\"/>\n",
              "    <path d=\"M18.56 5.44l.94 2.06.94-2.06 2.06-.94-2.06-.94-.94-2.06-.94 2.06-2.06.94zm-11 1L8.5 8.5l.94-2.06 2.06-.94-2.06-.94L8.5 2.5l-.94 2.06-2.06.94zm10 10l.94 2.06.94-2.06 2.06-.94-2.06-.94-.94-2.06-.94 2.06-2.06.94z\"/><path d=\"M17.41 7.96l-1.37-1.37c-.4-.4-.92-.59-1.43-.59-.52 0-1.04.2-1.43.59L10.3 9.45l-7.72 7.72c-.78.78-.78 2.05 0 2.83L4 21.41c.39.39.9.59 1.41.59.51 0 1.02-.2 1.41-.59l7.78-7.78 2.81-2.81c.8-.78.8-2.07 0-2.86zM5.41 20L4 18.59l7.72-7.72 1.47 1.35L5.41 20z\"/>\n",
              "  </svg>\n",
              "      </button>\n",
              "      \n",
              "  <style>\n",
              "    .colab-df-container {\n",
              "      display:flex;\n",
              "      flex-wrap:wrap;\n",
              "      gap: 12px;\n",
              "    }\n",
              "\n",
              "    .colab-df-convert {\n",
              "      background-color: #E8F0FE;\n",
              "      border: none;\n",
              "      border-radius: 50%;\n",
              "      cursor: pointer;\n",
              "      display: none;\n",
              "      fill: #1967D2;\n",
              "      height: 32px;\n",
              "      padding: 0 0 0 0;\n",
              "      width: 32px;\n",
              "    }\n",
              "\n",
              "    .colab-df-convert:hover {\n",
              "      background-color: #E2EBFA;\n",
              "      box-shadow: 0px 1px 2px rgba(60, 64, 67, 0.3), 0px 1px 3px 1px rgba(60, 64, 67, 0.15);\n",
              "      fill: #174EA6;\n",
              "    }\n",
              "\n",
              "    [theme=dark] .colab-df-convert {\n",
              "      background-color: #3B4455;\n",
              "      fill: #D2E3FC;\n",
              "    }\n",
              "\n",
              "    [theme=dark] .colab-df-convert:hover {\n",
              "      background-color: #434B5C;\n",
              "      box-shadow: 0px 1px 3px 1px rgba(0, 0, 0, 0.15);\n",
              "      filter: drop-shadow(0px 1px 2px rgba(0, 0, 0, 0.3));\n",
              "      fill: #FFFFFF;\n",
              "    }\n",
              "  </style>\n",
              "\n",
              "      <script>\n",
              "        const buttonEl =\n",
              "          document.querySelector('#df-b1c3393f-ea7b-4b80-a3de-8859eaf5349c button.colab-df-convert');\n",
              "        buttonEl.style.display =\n",
              "          google.colab.kernel.accessAllowed ? 'block' : 'none';\n",
              "\n",
              "        async function convertToInteractive(key) {\n",
              "          const element = document.querySelector('#df-b1c3393f-ea7b-4b80-a3de-8859eaf5349c');\n",
              "          const dataTable =\n",
              "            await google.colab.kernel.invokeFunction('convertToInteractive',\n",
              "                                                     [key], {});\n",
              "          if (!dataTable) return;\n",
              "\n",
              "          const docLinkHtml = 'Like what you see? Visit the ' +\n",
              "            '<a target=\"_blank\" href=https://colab.research.google.com/notebooks/data_table.ipynb>data table notebook</a>'\n",
              "            + ' to learn more about interactive tables.';\n",
              "          element.innerHTML = '';\n",
              "          dataTable['output_type'] = 'display_data';\n",
              "          await google.colab.output.renderOutput(dataTable, element);\n",
              "          const docLink = document.createElement('div');\n",
              "          docLink.innerHTML = docLinkHtml;\n",
              "          element.appendChild(docLink);\n",
              "        }\n",
              "      </script>\n",
              "    </div>\n",
              "  </div>\n",
              "  "
            ]
          },
          "metadata": {},
          "execution_count": 34
        }
      ],
      "source": [
        "data.groupby(['S-P1', 'S-P2', 'S-P3', 'S-P4']).sum()\n"
      ]
    },
    {
      "cell_type": "code",
      "execution_count": 35,
      "id": "f602873c",
      "metadata": {
        "id": "f602873c"
      },
      "outputs": [],
      "source": [
        "x=data\n",
        "y=data"
      ]
    },
    {
      "cell_type": "code",
      "execution_count": null,
      "id": "724ea577",
      "metadata": {
        "id": "724ea577",
        "outputId": "22acb4bd-253f-4638-843d-7cc23819f6cb"
      },
      "outputs": [
        {
          "name": "stdout",
          "output_type": "stream",
          "text": [
            "            Date  Q-P1  Q-P2  Q-P3  Q-P4      S-P1      S-P2      S-P3  \\\n",
            "0     13-06-2010  5422  3725   576   907  17187.74  23616.50   3121.92   \n",
            "1     14-06-2010  7047   779  3578  1574  22338.99   4938.86  19392.76   \n",
            "2     15-06-2010  1572  2082   595  1145   4983.24  13199.88   3224.90   \n",
            "3     16-06-2010  5657  2399  3140  1672  17932.69  15209.66  17018.80   \n",
            "4     17-06-2010  3668  3207  2184   708  11627.56  20332.38  11837.28   \n",
            "...          ...   ...   ...   ...   ...       ...       ...       ...   \n",
            "4595  30-01-2023  2476  3419   525  1359   7848.92  21676.46   2845.50   \n",
            "4596  31-01-2023  7446   841  4825  1311  23603.82   5331.94  26151.50   \n",
            "4597  01-02-2023  6289  3143  3588   474  19936.13  19926.62  19446.96   \n",
            "4598  02-02-2023  3122  1188  5899   517   9896.74   7531.92  31972.58   \n",
            "4599  03-02-2023  1234  3854  2321   406   3911.78  24434.36  12579.82   \n",
            "\n",
            "          S-P4 Day Month  Year  \n",
            "0      6466.91  13    06  2010  \n",
            "1     11222.62  14    06  2010  \n",
            "2      8163.85  15    06  2010  \n",
            "3     11921.36  16    06  2010  \n",
            "4      5048.04  17    06  2010  \n",
            "...        ...  ..   ...   ...  \n",
            "4595   9689.67  30    01  2023  \n",
            "4596   9347.43  31    01  2023  \n",
            "4597   3379.62  01    02  2023  \n",
            "4598   3686.21  02    02  2023  \n",
            "4599   2894.78  03    02  2023  \n",
            "\n",
            "[4600 rows x 12 columns]\n",
            "            Date  Q-P1  Q-P2  Q-P3  Q-P4      S-P1      S-P2      S-P3  \\\n",
            "0     13-06-2010  5422  3725   576   907  17187.74  23616.50   3121.92   \n",
            "1     14-06-2010  7047   779  3578  1574  22338.99   4938.86  19392.76   \n",
            "2     15-06-2010  1572  2082   595  1145   4983.24  13199.88   3224.90   \n",
            "3     16-06-2010  5657  2399  3140  1672  17932.69  15209.66  17018.80   \n",
            "4     17-06-2010  3668  3207  2184   708  11627.56  20332.38  11837.28   \n",
            "...          ...   ...   ...   ...   ...       ...       ...       ...   \n",
            "4595  30-01-2023  2476  3419   525  1359   7848.92  21676.46   2845.50   \n",
            "4596  31-01-2023  7446   841  4825  1311  23603.82   5331.94  26151.50   \n",
            "4597  01-02-2023  6289  3143  3588   474  19936.13  19926.62  19446.96   \n",
            "4598  02-02-2023  3122  1188  5899   517   9896.74   7531.92  31972.58   \n",
            "4599  03-02-2023  1234  3854  2321   406   3911.78  24434.36  12579.82   \n",
            "\n",
            "          S-P4 Day Month  Year  \n",
            "0      6466.91  13    06  2010  \n",
            "1     11222.62  14    06  2010  \n",
            "2      8163.85  15    06  2010  \n",
            "3     11921.36  16    06  2010  \n",
            "4      5048.04  17    06  2010  \n",
            "...        ...  ..   ...   ...  \n",
            "4595   9689.67  30    01  2023  \n",
            "4596   9347.43  31    01  2023  \n",
            "4597   3379.62  01    02  2023  \n",
            "4598   3686.21  02    02  2023  \n",
            "4599   2894.78  03    02  2023  \n",
            "\n",
            "[4600 rows x 12 columns]\n"
          ]
        }
      ],
      "source": [
        "print(x)\n",
        "print(y)"
      ]
    },
    {
      "cell_type": "code",
      "execution_count": null,
      "id": "f28909d7",
      "metadata": {
        "id": "f28909d7",
        "outputId": "db9b7935-f4b4-4301-d374-c73ffb046882"
      },
      "outputs": [
        {
          "data": {
            "application/javascript": [
              "\n",
              "        if (window._pyforest_update_imports_cell) { window._pyforest_update_imports_cell('from sklearn.model_selection import train_test_split'); }\n",
              "    "
            ],
            "text/plain": [
              "<IPython.core.display.Javascript object>"
            ]
          },
          "metadata": {},
          "output_type": "display_data"
        },
        {
          "name": "stdout",
          "output_type": "stream",
          "text": [
            "Least populated class in x and in y has only 1 member\n"
          ]
        }
      ],
      "source": [
        "import math\n",
        "try:\n",
        "    x_train,x_test,y_train,y_test= train_test_split(x,y,test_size=0.1,stratify=y.iloc[:,1],random_state=1)\n",
        "except ValueError:\n",
        " print('Least populated class in x and in y has only 1 member')\n"
      ]
    },
    {
      "cell_type": "code",
      "execution_count": null,
      "id": "ed6ec039",
      "metadata": {
        "id": "ed6ec039"
      },
      "outputs": [],
      "source": []
    },
    {
      "cell_type": "markdown",
      "source": [
        "# **CONCLUSION**"
      ],
      "metadata": {
        "id": "iwX84ec5rYbW"
      },
      "id": "iwX84ec5rYbW"
    },
    {
      "cell_type": "markdown",
      "id": "fdf745f2",
      "metadata": {
        "id": "fdf745f2"
      },
      "source": [
        "\n",
        "\n",
        "We can see that our previous observation correlate as Q-P1 has the higest estimate, follwed by Q-P3\n",
        "We can approxiamte that the company will make:\n",
        "Q-P1: 3813.74\n",
        "Q-P2: 2058.80\n",
        "Q-P3: 3183.88\n",
        "Q-P4: 1098.61\n"
      ]
    },
    {
      "cell_type": "markdown",
      "id": "ce1325a9",
      "metadata": {
        "id": "ce1325a9"
      },
      "source": [
        "\n",
        "\n",
        "Unit Sales:2011 - 2022\n",
        "\n",
        "P1 has the highest unit sales for each year and it's highest is in year 2014.\n",
        "We can observe that P4 has the lowest unit sales of all the products for each year and its lowest in 2022.\n",
        "\n",
        "Revenues:2011 - 2022\n",
        "\n",
        "We can observe that P3 brought in the most revenue. This could be as a result of multiple things:\n",
        "P3 was sold for higher than the rest, as it had the second highest unit sales for each year.\n",
        "We can observe that P1 and P2 brought in almost similar revenues for each year with P2 bringing in slightly more.\n",
        "P1 despite having the most unit sold, brought in the second lowest revenue each year.\n",
        "\n",
        "Average Monthly Sales:2011 - 2022\n",
        "\n",
        "We can observe that all Products unit sales drop in February.\n",
        "We can observe that February and December have the lowest sales for each product.\n",
        "For P1 We can observe March - July having the highest unit sales.\n",
        "For P2 We can observe January, March - August having the highest unit sales.\n",
        "For P3 We can observe May & September having the highest unit sales.\n",
        "For P4 We can observe uniform sales from January - December.\n",
        "\n",
        "Estimated Unit Sales for 31st of Dec\n",
        "\n",
        "This value can not be properly estimated with out Machine Learning. Currently we used the average for all the 31st days across all years for each product.\n",
        "\n",
        "Overall we can see that P1 has the highest unit sales on the 31st for each year, except for 2021 and 2022. (These could be as a result to Covid and other economy issues.)\n",
        "P3 has the second highest unit sales for all the 31st in each year.\n",
        "We can see that our previous observation correlate as Q-P1 has the higest estimate, followed by Q-P3\n",
        "We can approxiamte that the company will make:\n",
        "Q-P1: 3813.74\n",
        "Q-P2: 2058.80\n",
        "Q-P3: 3183.88\n",
        "Q-P4: 1098.61\n",
        "\n",
        "If one product had to be dropped it should be P4 because it sells the least quantities and brings in the least revenue\n",
        "thoughout the period.\n"
      ]
    },
    {
      "cell_type": "code",
      "execution_count": null,
      "id": "2b8ab7c5",
      "metadata": {
        "id": "2b8ab7c5"
      },
      "outputs": [],
      "source": []
    }
  ],
  "metadata": {
    "kernelspec": {
      "display_name": "Python 3 (ipykernel)",
      "language": "python",
      "name": "python3"
    },
    "language_info": {
      "codemirror_mode": {
        "name": "ipython",
        "version": 3
      },
      "file_extension": ".py",
      "mimetype": "text/x-python",
      "name": "python",
      "nbconvert_exporter": "python",
      "pygments_lexer": "ipython3",
      "version": "3.9.12"
    },
    "colab": {
      "provenance": [],
      "toc_visible": true,
      "include_colab_link": true
    }
  },
  "nbformat": 4,
  "nbformat_minor": 5
}